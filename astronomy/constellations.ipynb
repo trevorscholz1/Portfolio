{
 "cells": [
  {
   "cell_type": "code",
   "execution_count": null,
   "metadata": {},
   "outputs": [],
   "source": [
    "import numpy as np\n",
    "import pandas as pd\n",
    "import matplotlib.pyplot as plt\n",
    "from astropy.coordinates import SkyCoord\n",
    "from astropy import units as u\n",
    "\n",
    "data = {\n",
    "    'Star': ['Sirius', 'Canopus', 'Rigil Kentaurus', 'Arcturus', 'Vega'],\n",
    "    'RA': ['06h45m08.91728s', '06h23m57.10988s', '14h39m36.49400s', '14h15m39.67207s', '18h36m56.33635s'],\n",
    "    'DEC': ['-16d42m58.0171s', '-52d41m44.3810s', '-60d50m02.3737s', '19d10m56.6730s', '38d47m01.2802s'],\n",
    "    'Magnitude': [-1.46, -0.72, -0.27, -0.04, 0.03]\n",
    "}\n",
    "\n",
    "df = pd.DataFrame(data)\n",
    "\n",
    "print(\"Star Constellations Data\")\n",
    "print(df)\n",
    "\n",
    "df['SkyCoord'] = df.apply(lambda row: SkyCoord(row['RA'], row['DEC'], frame='icrs'), axis=1)\n",
    "\n",
    "plt.figure(figsize=(10, 6))\n",
    "plt.scatter(\n",
    "    [coord.ra.deg for coord in df['SkyCoord']],\n",
    "    [coord.dec.deg for coord in df['SkyCoord']],\n",
    "    s=[(10 - mag) * 10 for mag in df['Magnitude']], \n",
    "    alpha=0.7\n",
    ")\n",
    "plt.title('Star Constellations')\n",
    "plt.xlabel('Right Ascension (degrees)')\n",
    "plt.ylabel('Declination (degrees)')\n",
    "plt.grid(True)\n",
    "plt.gca().invert_xaxis() \n",
    "plt.show()\n",
    "\n",
    "brightest_star = df.loc[df['Magnitude'].idxmin()]\n",
    "print(f\"The brightest star is {brightest_star['Star']} with a magnitude of {brightest_star['Magnitude']}.\")\n",
    "\n",
    "star1 = SkyCoord(df.iloc[0]['RA'], df.iloc[0]['DEC'], frame='icrs')\n",
    "star2 = SkyCoord(df.iloc[1]['RA'], df.iloc[1]['DEC'], frame='icrs')\n",
    "separation = star1.separation(star2)\n",
    "\n",
    "print(f\"The angular separation between {df.iloc[0]['Star']} and {df.iloc[1]['Star']} is {separation}.\")\n",
    "\n"
   ]
  }
 ],
 "metadata": {
  "kernelspec": {
   "display_name": "Python 3",
   "language": "python",
   "name": "python3"
  },
  "language_info": {
   "codemirror_mode": {
    "name": "ipython",
    "version": 3
   },
   "file_extension": ".py",
   "mimetype": "text/x-python",
   "name": "python",
   "nbconvert_exporter": "python",
   "pygments_lexer": "ipython3",
   "version": "3.10.0"
  }
 },
 "nbformat": 4,
 "nbformat_minor": 2
}
