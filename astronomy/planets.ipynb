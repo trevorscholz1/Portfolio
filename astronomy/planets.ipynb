{
 "cells": [
  {
   "cell_type": "code",
   "execution_count": null,
   "metadata": {},
   "outputs": [],
   "source": [
    "import pandas as pd # type: ignore\n",
    "import firebase_admin # type: ignore\n",
    "from firebase_admin import credentials # type: ignore\n",
    "from firebase_admin import firestore # type: ignore\n",
    "\n",
    "cred = credentials.Certificate('../../Documents/GoogleCerts/astroworld-trevor-firebase-adminsdk-l05ps-820638c3ff.json')\n",
    "firebase_admin.initialize_app(cred)\n",
    "db = firestore.client()\n",
    "\n",
    "table = pd.read_csv('./hygdata_v41.csv')\n",
    "table = table.dropna(subset=['proper'])\n",
    "table = table[table['proper'] != 'Sol']\n",
    "stars_table = table[['id', 'proper', 'ra', 'dec', 'mag', 'spect']].rename(columns={\n",
    "    'id': 'id',\n",
    "    'proper': 'name',\n",
    "    'ra': 'rightAscension',\n",
    "    'dec': 'declination',\n",
    "    'mag': 'magnitude',\n",
    "    'spect': 'spectralType'\n",
    "})\n",
    "\n",
    "stars_dict = stars_table.to_dict(orient='records')\n",
    "stars_ref = db.collection('stars')\n",
    "for star in stars_dict:\n",
    "    star_ref = stars_ref.document(str(int(star['id'])))\n",
    "    star_ref.set(star)\n",
    "\n",
    "print(\"Data uploaded successfully!\")"
   ]
  },
  {
   "cell_type": "code",
   "execution_count": 1,
   "metadata": {},
   "outputs": [
    {
     "name": "stderr",
     "output_type": "stream",
     "text": [
      "[#################################] 100% de421.bsp\n"
     ]
    },
    {
     "name": "stdout",
     "output_type": "stream",
     "text": [
      "Solar system objects updated in Firestore!\n"
     ]
    }
   ],
   "source": [
    "import warnings # type: ignore\n",
    "warnings.filterwarnings('ignore') # type: ignore\n",
    "from datetime import date, timedelta  # type: ignore\n",
    "import firebase_admin # type: ignore\n",
    "from firebase_admin import credentials, firestore # type: ignore\n",
    "import os  # type: ignore\n",
    "from skyfield.api import load  # type: ignore\n",
    "from skyfield.magnitudelib import planetary_magnitude  # type: ignore\n",
    "\n",
    "cred = credentials.Certificate('../../Documents/GoogleCerts/astroworld-trevor-firebase-adminsdk-l05ps-820638c3ff.json')\n",
    "firebase_admin.initialize_app(cred)\n",
    "db = firestore.client()\n",
    "\n",
    "try:\n",
    "    os.remove('de421.bsp')\n",
    "except FileNotFoundError:\n",
    "    pass\n",
    "\n",
    "ts = load.timescale()\n",
    "planets = load('de421.bsp')\n",
    "t = ts.utc(date.today() + timedelta(days=1))\n",
    "\n",
    "solar_system_objects = {\n",
    "    'Sun': planets['sun'],\n",
    "    'Moon': planets['moon'],\n",
    "    'Mercury': planets['mercury BARYCENTER'],\n",
    "    'Venus': planets['venus BARYCENTER'],\n",
    "    'Mars': planets['mars BARYCENTER'],\n",
    "    'Jupiter': planets['jupiter BARYCENTER'],\n",
    "    'Saturn': planets['saturn BARYCENTER'],\n",
    "    'Uranus': planets['uranus BARYCENTER'],\n",
    "    'Neptune': planets['neptune BARYCENTER']\n",
    "}\n",
    "\n",
    "def get_planet_data(planet, name, id, spect):\n",
    "    earth = planets['earth']\n",
    "    astrometric = earth.at(t).observe(planet)\n",
    "    ra, dec, _ = astrometric.radec()\n",
    "    if name == 'Sun':\n",
    "        mag = -26.74\n",
    "    elif name == 'Moon':\n",
    "        mag = -12.74\n",
    "    else:\n",
    "        mag = planetary_magnitude(earth.at(t).observe(planet))\n",
    "    return {\n",
    "        'id': id,\n",
    "        'name': name,\n",
    "        'rightAscension': ra.hours,\n",
    "        'declination': dec.degrees,\n",
    "        'magnitude': mag,\n",
    "        'spectralType': chr(spect)\n",
    "    }\n",
    "\n",
    "planet_data = []\n",
    "id = 0.0\n",
    "spect = ord('r')\n",
    "for name, planet in solar_system_objects.items():\n",
    "    data = get_planet_data(planet, name, id, spect)\n",
    "    planet_data.append(data)\n",
    "    id += 1.0\n",
    "    spect += 1\n",
    "\n",
    "stars_ref = db.collection('stars')\n",
    "for name in solar_system_objects.keys():\n",
    "    query = stars_ref.where('name', '==', name)\n",
    "    docs = query.get()\n",
    "    for doc in docs:\n",
    "        doc.reference.delete()\n",
    "\n",
    "for data in planet_data:\n",
    "    data['rightAscension'] = float(data['rightAscension'])\n",
    "    data['declination'] = float(data['declination'])\n",
    "    data['magnitude'] = float(data['magnitude'])\n",
    "    \n",
    "    stars_ref.document(str(int(data['id']))).set(data)\n",
    "\n",
    "print(\"Solar system objects updated in Firestore!\")"
   ]
  },
  {
   "cell_type": "code",
   "execution_count": null,
   "metadata": {},
   "outputs": [],
   "source": []
  }
 ],
 "metadata": {
  "kernelspec": {
   "display_name": "Python 3",
   "language": "python",
   "name": "python3"
  },
  "language_info": {
   "codemirror_mode": {
    "name": "ipython",
    "version": 3
   },
   "file_extension": ".py",
   "mimetype": "text/x-python",
   "name": "python",
   "nbconvert_exporter": "python",
   "pygments_lexer": "ipython3",
   "version": "3.12.4"
  }
 },
 "nbformat": 4,
 "nbformat_minor": 2
}
