{
 "cells": [
  {
   "cell_type": "code",
   "execution_count": null,
   "metadata": {},
   "outputs": [],
   "source": [
    "import pandas as pd # type: ignore\n",
    "\n",
    "# STARS FROM HYG CATALOGUE\n",
    "\n",
    "table = pd.read_csv(\"/Users/trevor/Downloads/athyg_v24.csv\")\n",
    "table = table.dropna(subset=['proper'])\n",
    "table[['proper','ra','dec','mag','spect']].to_csv(\"stars.csv\")"
   ]
  },
  {
   "cell_type": "code",
   "execution_count": 1,
   "metadata": {},
   "outputs": [
    {
     "name": "stderr",
     "output_type": "stream",
     "text": [
      "[#################################] 100% de421.bsp\n"
     ]
    },
    {
     "name": "stdout",
     "output_type": "stream",
     "text": [
      "Solar system objects appended to the CSV!\n"
     ]
    }
   ],
   "source": [
    "import os # type: ignore\n",
    "import pandas as pd # type: ignore\n",
    "from datetime import date, timedelta # type: ignore\n",
    "from skyfield.api import load # type: ignore\n",
    "from skyfield.magnitudelib import planetary_magnitude # type: ignore\n",
    "\n",
    "try:\n",
    "    os.remove('de421.bsp')\n",
    "except:\n",
    "    pass\n",
    "\n",
    "ts = load.timescale()\n",
    "planets = load('de421.bsp')\n",
    "\n",
    "t = ts.utc(date.today() + timedelta(days=1))\n",
    "\n",
    "solar_system_objects = {\n",
    "    'Sun': planets['sun'],\n",
    "    'Moon': planets['moon'],\n",
    "    'Mercury': planets['mercury BARYCENTER'],\n",
    "    'Venus': planets['venus BARYCENTER'],\n",
    "    'Mars': planets['mars BARYCENTER'],\n",
    "    'Jupiter': planets['jupiter BARYCENTER'],\n",
    "    'Saturn': planets['saturn BARYCENTER'],\n",
    "    'Uranus': planets['uranus BARYCENTER'],\n",
    "    'Neptune': planets['neptune BARYCENTER']\n",
    "}\n",
    "\n",
    "def get_planet_data(planet, name, id, spect):\n",
    "    earth = planets['earth']\n",
    "    astrometric = earth.at(t).observe(planet)\n",
    "    ra, dec, _ = astrometric.radec()\n",
    "    if name == 'Sun':\n",
    "        mag = -26.74\n",
    "    elif name == 'Moon':\n",
    "        mag = -12.6\n",
    "    else:\n",
    "        mag = planetary_magnitude(earth.at(t).observe(planet))\n",
    "    return {\n",
    "        'Unnamed: 0': id,\n",
    "        'proper': name,\n",
    "        'ra': ra.hours,\n",
    "        'dec': dec.degrees,\n",
    "        'mag': mag,\n",
    "        'spect': chr(spect)\n",
    "    }\n",
    "\n",
    "planet_data = []\n",
    "\n",
    "id = 0.0\n",
    "spect = ord('r')\n",
    "for name, planet in solar_system_objects.items():\n",
    "    data = get_planet_data(planet, name, id, spect)\n",
    "    planet_data.append(data)\n",
    "    id += 1.0\n",
    "    spect += 1\n",
    "\n",
    "csv_file = '../../trevorAppsWebsites/AstroWorld/AstroWorld/stars.csv'\n",
    "df = pd.read_csv(csv_file)\n",
    "\n",
    "df.drop(df[df['proper'] == 'Sun'].index, inplace=True)\n",
    "df.drop(df[df['proper'] == 'Moon'].index, inplace=True)\n",
    "df.drop(df[df['proper'] == 'Mercury'].index, inplace=True)\n",
    "df.drop(df[df['proper'] == 'Venus'].index, inplace=True)\n",
    "df.drop(df[df['proper'] == 'Mars'].index, inplace=True)\n",
    "df.drop(df[df['proper'] == 'Jupiter'].index, inplace=True)\n",
    "df.drop(df[df['proper'] == 'Saturn'].index, inplace=True)\n",
    "df.drop(df[df['proper'] == 'Uranus'].index, inplace=True)\n",
    "df.drop(df[df['proper'] == 'Neptune'].index, inplace=True)\n",
    "\n",
    "new_data_df = pd.DataFrame(planet_data)\n",
    "updated_df = pd.concat([df, new_data_df], ignore_index=True)\n",
    "updated_df.to_csv(csv_file, index=False)\n",
    "\n",
    "print(\"Solar system objects appended to the CSV!\")"
   ]
  },
  {
   "cell_type": "code",
   "execution_count": null,
   "metadata": {},
   "outputs": [],
   "source": []
  }
 ],
 "metadata": {
  "kernelspec": {
   "display_name": "Python 3",
   "language": "python",
   "name": "python3"
  },
  "language_info": {
   "codemirror_mode": {
    "name": "ipython",
    "version": 3
   },
   "file_extension": ".py",
   "mimetype": "text/x-python",
   "name": "python",
   "nbconvert_exporter": "python",
   "pygments_lexer": "ipython3",
   "version": "3.12.4"
  }
 },
 "nbformat": 4,
 "nbformat_minor": 2
}
