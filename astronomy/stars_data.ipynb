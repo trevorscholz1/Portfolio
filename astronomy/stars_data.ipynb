{
 "cells": [
  {
   "cell_type": "code",
   "execution_count": 1,
   "metadata": {},
   "outputs": [
    {
     "name": "stdout",
     "output_type": "stream",
     "text": [
      "500 stars uploaded successfully\n"
     ]
    }
   ],
   "source": [
    "import pandas as pd # type: ignore\n",
    "import firebase_admin # type: ignore\n",
    "from firebase_admin import credentials, firestore # type: ignore\n",
    "\n",
    "cred = credentials.Certificate('../../Documents/GoogleCerts/astroworld-trevor-firebase-adminsdk-l05ps-820638c3ff.json')\n",
    "firebase_admin.initialize_app(cred)\n",
    "db = firestore.client()\n",
    "\n",
    "def name_star(row):\n",
    "    name = row['proper']\n",
    "    hd = row['hd']\n",
    "    if pd.isna(name):\n",
    "        if pd.isna(hd):\n",
    "            return None\n",
    "        else:\n",
    "            return f\"HD{int(hd)}\"\n",
    "    else:\n",
    "        return name\n",
    "\n",
    "def convert_dist(parsecs):\n",
    "    au = parsecs * 206264.80624\n",
    "    return au\n",
    "\n",
    "table = pd.read_csv('./hygdata_v41.csv')\n",
    "table = table.sort_values('mag')\n",
    "table = table[table['proper'] != 'Sol']\n",
    "table = table.head(500)\n",
    "table['proper'] = table.apply(name_star, axis=1)\n",
    "table['dist'] = table['dist'].apply(convert_dist)\n",
    "stars_table = table[['id','proper','ra','dec','mag','spect','dist','con','lum']].rename(columns={\n",
    "    'id': 'id',\n",
    "    'proper': 'name',\n",
    "    'ra': 'rightAscension',\n",
    "    'dec': 'declination',\n",
    "    'mag': 'magnitude',\n",
    "    'spect': 'spectralType',\n",
    "    'dist':'distance',\n",
    "    'con':'constellation',\n",
    "    'lum':'luminosity'\n",
    "})\n",
    "\n",
    "stars_dict = stars_table.to_dict(orient='records')\n",
    "stars_ref = db.collection('stars')\n",
    "for star in stars_dict:\n",
    "    star_ref = stars_ref.document(str(int(star['id'])))\n",
    "    star_ref.set(star)\n",
    "\n",
    "print(f\"{len(stars_dict)} stars uploaded successfully\")"
   ]
  },
  {
   "cell_type": "code",
   "execution_count": null,
   "metadata": {},
   "outputs": [],
   "source": []
  }
 ],
 "metadata": {
  "kernelspec": {
   "display_name": "Python 3",
   "language": "python",
   "name": "python3"
  },
  "language_info": {
   "codemirror_mode": {
    "name": "ipython",
    "version": 3
   },
   "file_extension": ".py",
   "mimetype": "text/x-python",
   "name": "python",
   "nbconvert_exporter": "python",
   "pygments_lexer": "ipython3",
   "version": "3.12.4"
  }
 },
 "nbformat": 4,
 "nbformat_minor": 2
}
