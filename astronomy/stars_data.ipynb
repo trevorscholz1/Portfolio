{
 "cells": [
  {
   "cell_type": "code",
   "execution_count": 1,
   "metadata": {},
   "outputs": [
    {
     "name": "stdout",
     "output_type": "stream",
     "text": [
      "500 Stars Uploaded Successfully.\n"
     ]
    }
   ],
   "source": [
    "import pandas as pd\n",
    "import firebase_admin\n",
    "from firebase_admin import credentials, firestore\n",
    "\n",
    "cred = credentials.Certificate(\n",
    "    \"../../Documents/GoogleCerts/astroworld-trevor-firebase-adminsdk-l05ps-820638c3ff.json\"\n",
    ")\n",
    "firebase_admin.initialize_app(cred)\n",
    "db = firestore.client()\n",
    "\n",
    "\n",
    "def name_star(row):\n",
    "    name = row[\"proper\"]\n",
    "    hd = row[\"hd\"]\n",
    "    if pd.isna(name):\n",
    "        if pd.isna(hd):\n",
    "            return None\n",
    "        else:\n",
    "            return f\"HD{int(hd)}\"\n",
    "    else:\n",
    "        return name\n",
    "\n",
    "\n",
    "def convert_dist(parsecs):\n",
    "    au = parsecs * 206264.80624\n",
    "    return au\n",
    "\n",
    "\n",
    "table = pd.read_csv(\"./hyg_v42.csv\")\n",
    "table = table.sort_values(\"mag\")\n",
    "table = table[table[\"proper\"] != \"Sol\"]\n",
    "table = table.head(500)\n",
    "table[\"proper\"] = table.apply(name_star, axis=1)\n",
    "table[\"dist\"] = table[\"dist\"].apply(convert_dist)\n",
    "stars_table = table[\n",
    "    [\"id\", \"proper\", \"con\", \"dist\", \"dec\", \"ra\", \"mag\", \"lum\", \"spect\"]\n",
    "].rename(\n",
    "    columns={\n",
    "        \"id\": \"id\",\n",
    "        \"proper\": \"name\",\n",
    "        \"con\": \"constellation\",\n",
    "        \"dist\": \"distance\",\n",
    "        \"dec\": \"declination\",\n",
    "        \"ra\": \"rightAscension\",\n",
    "        \"mag\": \"magnitude\",\n",
    "        \"lum\": \"luminosity\",\n",
    "        \"spect\": \"spectralType\",\n",
    "    }\n",
    ")\n",
    "stars_dict = stars_table.to_dict(orient=\"records\")\n",
    "\n",
    "objects_ref = db.collection(\"objects\")\n",
    "stars_doc = objects_ref.document(\"stars\")\n",
    "stars_doc.delete()\n",
    "\n",
    "objects_ref.document(\"stars\").set({\"data\": stars_dict})\n",
    "print(f\"{len(stars_dict)} Stars Uploaded Successfully.\")"
   ]
  },
  {
   "cell_type": "code",
   "execution_count": null,
   "metadata": {},
   "outputs": [],
   "source": []
  }
 ],
 "metadata": {
  "kernelspec": {
   "display_name": "Python 3",
   "language": "python",
   "name": "python3"
  },
  "language_info": {
   "codemirror_mode": {
    "name": "ipython",
    "version": 3
   },
   "file_extension": ".py",
   "mimetype": "text/x-python",
   "name": "python",
   "nbconvert_exporter": "python",
   "pygments_lexer": "ipython3",
   "version": "3.10.0"
  }
 },
 "nbformat": 4,
 "nbformat_minor": 2
}
