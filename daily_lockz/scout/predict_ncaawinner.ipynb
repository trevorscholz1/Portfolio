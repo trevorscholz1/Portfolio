{
 "cells": [
  {
   "cell_type": "code",
   "execution_count": null,
   "metadata": {},
   "outputs": [],
   "source": [
    "import pandas as pd # type: ignore\n",
    "from sklearn.metrics import accuracy_score # type: ignore\n",
    "from sklearn.model_selection import train_test_split # type: ignore\n",
    "from sklearn.preprocessing import StandardScaler # type: ignore\n",
    "import tensorflow as tf # type: ignore\n",
    "from tensorflow.keras.layers import Dense, Dropout # type: ignore\n",
    "from tensorflow.keras.models import Sequential # type: ignore\n",
    "from tensorflow.keras.optimizers import Adam # type: ignore\n",
    "\n",
    "df = pd.read_csv('ncaa_stats.csv')\n",
    "df.dropna(axis=1, thresh=100, inplace=True)\n",
    "\n",
    "feature_columns = [col for col in df.columns if col not in ['Team', 'Year', 'Winner/Target']]\n",
    "past_data = df[df['Winner/Target'] != 2]\n",
    "current_year_data = df[df['Winner/Target'] == 2].copy()\n",
    "\n",
    "X = past_data[feature_columns]\n",
    "y = past_data['Winner/Target']\n",
    "scaler = StandardScaler()\n",
    "\n",
    "X_scaled = scaler.fit_transform(X)\n",
    "X_train, X_test, y_train, y_test = train_test_split(X_scaled, y, test_size=0.2, random_state=0)\n",
    "\n",
    "model = Sequential([\n",
    "    Dense(64, activation='relu', input_shape=(X_train.shape[1],)),\n",
    "    Dense(32, activation='relu'),\n",
    "    Dense(1, activation='sigmoid')\n",
    "])\n",
    "\n",
    "model.compile(optimizer=Adam(learning_rate=0.001), loss='binary_crossentropy', metrics=['accuracy'])\n",
    "model.fit(X_train, y_train, epochs=100, batch_size=16, validation_data=(X_test, y_test), verbose=1)\n",
    "\n",
    "y_pred = (model.predict(X_test) > 0.5).astype(int)\n",
    "print(f\"Accuracy: {accuracy_score(y_test, y_pred):.2f}\")\n",
    "\n",
    "current_X_scaled = scaler.transform(current_year_data[feature_columns])\n",
    "current_year_data['Raw_Probability'] = model.predict(current_X_scaled)\n",
    "current_year_data['Win_Probability'] = (current_year_data.groupby('Year')['Raw_Probability'].transform(lambda x: x / x.sum())) * 100\n",
    "\n",
    "pd.set_option('display.max_rows', 10000)\n",
    "display(current_year_data[['Year', 'Team', 'Win_Probability']].sort_values(['Year', 'Win_Probability'], ascending=[True, False]))"
   ]
  },
  {
   "cell_type": "code",
   "execution_count": null,
   "metadata": {},
   "outputs": [],
   "source": []
  }
 ],
 "metadata": {
  "kernelspec": {
   "display_name": "Python 3",
   "language": "python",
   "name": "python3"
  },
  "language_info": {
   "codemirror_mode": {
    "name": "ipython",
    "version": 3
   },
   "file_extension": ".py",
   "mimetype": "text/x-python",
   "name": "python",
   "nbconvert_exporter": "python",
   "pygments_lexer": "ipython3",
   "version": "3.10.0"
  }
 },
 "nbformat": 4,
 "nbformat_minor": 2
}
