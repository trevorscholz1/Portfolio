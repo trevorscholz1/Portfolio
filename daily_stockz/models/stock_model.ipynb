{
 "cells": [
  {
   "cell_type": "code",
   "execution_count": 1,
   "metadata": {},
   "outputs": [
    {
     "name": "stdout",
     "output_type": "stream",
     "text": [
      "LAST UPDATED: 2025-01-01\n",
      "0 out of 17460 complete\n",
      "1000 out of 17460 complete\n"
     ]
    },
    {
     "name": "stderr",
     "output_type": "stream",
     "text": [
      "ERROR:root:Error processing BALY.T: FinnhubAPIException(status_code: 403): You don't have access to this resource.\n",
      "ERROR:root:Error processing BALY.T: FinnhubAPIException(status_code: 403): You don't have access to this resource.\n",
      "ERROR:root:Error processing BALY.T: FinnhubAPIException(status_code: 403): You don't have access to this resource.\n"
     ]
    },
    {
     "name": "stdout",
     "output_type": "stream",
     "text": [
      "2000 out of 17460 complete\n",
      "3000 out of 17460 complete\n",
      "4000 out of 17460 complete\n",
      "5000 out of 17460 complete\n"
     ]
    },
    {
     "name": "stderr",
     "output_type": "stream",
     "text": [
      "ERROR:root:Error processing FDP: HTTPSConnectionPool(host='api.finnhub.io', port=443): Read timed out. (read timeout=10)\n"
     ]
    },
    {
     "name": "stdout",
     "output_type": "stream",
     "text": [
      "6000 out of 17460 complete\n",
      "7000 out of 17460 complete\n",
      "8000 out of 17460 complete\n",
      "9000 out of 17460 complete\n",
      "10000 out of 17460 complete\n",
      "11000 out of 17460 complete\n",
      "12000 out of 17460 complete\n",
      "13000 out of 17460 complete\n",
      "14000 out of 17460 complete\n",
      "15000 out of 17460 complete\n"
     ]
    },
    {
     "name": "stderr",
     "output_type": "stream",
     "text": [
      "ERROR:root:Error processing TCGN: HTTPSConnectionPool(host='api.finnhub.io', port=443): Read timed out. (read timeout=10)\n"
     ]
    },
    {
     "name": "stdout",
     "output_type": "stream",
     "text": [
      "16000 out of 17460 complete\n",
      "17000 out of 17460 complete\n",
      "AMZN: 94\n",
      "META: 88\n",
      "NVDA: 88\n",
      "MSFT: 82\n",
      "TCTZF: 75\n",
      "GOOG: 72\n",
      "GOOGL: 72\n",
      "UBER: 70\n",
      "AMD: 62\n",
      "MPNGF: 62\n",
      "17459\n"
     ]
    }
   ],
   "source": [
    "from dotenv import load_dotenv # type: ignore\n",
    "import finnhub # type: ignore\n",
    "import logging # type: ignore\n",
    "import os # type: ignore\n",
    "import pandas as pd # type: ignore\n",
    "import time # type: ignore\n",
    "\n",
    "try:\n",
    "    os.remove('stocks.csv')\n",
    "except:\n",
    "    pass\n",
    "\n",
    "load_dotenv()\n",
    "API_KEY = os.getenv('FINNHUB_API')\n",
    "API_KEY2 = os.getenv('FINNHUB2_API')\n",
    "API_KEY3 = os.getenv('FINNHUB3_API')\n",
    "\n",
    "finnhub_client = finnhub.Client(api_key=f\"{API_KEY}\")\n",
    "alt_finnhub_client = finnhub.Client(api_key=f\"{API_KEY2}\")\n",
    "alt2_finnhub_client = finnhub.Client(api_key=f\"{API_KEY3}\")\n",
    "clients = [finnhub_client, alt_finnhub_client, alt2_finnhub_client]\n",
    "\n",
    "SYMBOLS = finnhub_client.stock_symbols('US')\n",
    "SYMBOLS = sorted([item for item in SYMBOLS if item['type'] == 'Common Stock'], key=lambda x: x['symbol'])\n",
    "STOCKS = {}\n",
    "\n",
    "period = 0\n",
    "max_retries = 3\n",
    "retry_delay = 1\n",
    "for count, symbol in enumerate(SYMBOLS):\n",
    "    retries = 0\n",
    "    while retries < max_retries:\n",
    "        try:\n",
    "            client = clients[count % len(clients)]\n",
    "            recommendations = client.recommendation_trends(symbol['symbol'])\n",
    "\n",
    "            if count == 0:\n",
    "                print(f\"LAST UPDATED: {recommendations[period]['period']}\")\n",
    "            if count % 1000 == 0:\n",
    "                print(f\"{count} out of {len(SYMBOLS)} complete\")\n",
    "\n",
    "            STOCKS[symbol['symbol']] = 0\n",
    "            STOCKS[symbol['symbol']] += (2 * recommendations[period]['strongBuy'])\n",
    "            STOCKS[symbol['symbol']] += (1 * recommendations[period]['buy'])\n",
    "            STOCKS[symbol['symbol']] += (-1 * recommendations[period]['sell'])\n",
    "            STOCKS[symbol['symbol']] += (-2 * recommendations[period]['strongSell'])\n",
    "\n",
    "            break\n",
    "        except Exception as error:\n",
    "            if str(error) == 'list index out of range':\n",
    "                break\n",
    "            logging.error(f\"Error processing {symbol['symbol']}: {error}\")\n",
    "            retries += 1\n",
    "            time.sleep(retry_delay)\n",
    "    time.sleep(1.05)\n",
    "\n",
    "sorted_stocks = dict(sorted(STOCKS.items(), key=lambda item: item[1], reverse=True))\n",
    "for symbol, score in list(sorted_stocks.items())[:10]:\n",
    "    print(f'{symbol}: {score}')\n",
    "print(len(sorted_stocks))\n",
    "\n",
    "sorted_stocks = list(sorted_stocks.items())\n",
    "df = pd.DataFrame(sorted_stocks, columns=['Symbol', 'Score'])\n",
    "df.to_csv('stocks.csv', index=False)"
   ]
  },
  {
   "cell_type": "code",
   "execution_count": null,
   "metadata": {},
   "outputs": [],
   "source": []
  }
 ],
 "metadata": {
  "kernelspec": {
   "display_name": "Python 3",
   "language": "python",
   "name": "python3"
  },
  "language_info": {
   "codemirror_mode": {
    "name": "ipython",
    "version": 3
   },
   "file_extension": ".py",
   "mimetype": "text/x-python",
   "name": "python",
   "nbconvert_exporter": "python",
   "pygments_lexer": "ipython3",
   "version": "3.12.4"
  }
 },
 "nbformat": 4,
 "nbformat_minor": 2
}
