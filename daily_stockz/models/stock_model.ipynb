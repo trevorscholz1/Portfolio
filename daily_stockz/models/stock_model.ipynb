{
 "cells": [
  {
   "cell_type": "code",
   "execution_count": 1,
   "metadata": {},
   "outputs": [
    {
     "name": "stdout",
     "output_type": "stream",
     "text": [
      "0 out of 7087 complete\n"
     ]
    },
    {
     "name": "stderr",
     "output_type": "stream",
     "text": [
      "AACIW: Period 'max' is invalid, must be one of ['1d', '5d']\n",
      "AAGRW: Period 'max' is invalid, must be one of ['1d', '5d']\n",
      "ABLLW: Period 'max' is invalid, must be one of ['1d', '5d']\n",
      "$ABR^D: possibly delisted; No timezone found\n",
      "$ABR^E: possibly delisted; No timezone found\n",
      "$ABR^F: possibly delisted; No timezone found\n",
      "ABVEW: Period 'max' is invalid, must be one of ['1d', '5d']\n",
      "ACONW: Period 'max' is invalid, must be one of ['1d', '5d']\n",
      "$ACP^A: possibly delisted; No timezone found\n",
      "$ACR^C: possibly delisted; No timezone found\n",
      "$ACR^D: possibly delisted; No timezone found\n",
      "$ADC^A: possibly delisted; No timezone found\n"
     ]
    },
    {
     "name": "stdout",
     "output_type": "stream",
     "text": [
      "100 out of 7087 complete\n"
     ]
    },
    {
     "name": "stderr",
     "output_type": "stream",
     "text": [
      "ADNWW: Period 'max' is invalid, must be one of ['1d', '5d']\n",
      "ADSEW: Period 'max' is invalid, must be one of ['1d', '5d']\n",
      "ADVWW: Period 'max' is invalid, must be one of ['1d', '5d']\n",
      "AEAEW: Period 'max' is invalid, must be one of ['1d', '5d']\n",
      "AENTW: Period 'max' is invalid, must be one of ['1d', '5d']\n",
      "AERTW: Period 'max' is invalid, must be one of ['1d', '5d']\n",
      "AFARW: Period 'max' is invalid, must be one of ['1d', '5d']\n",
      "AFRIW: Period 'max' is invalid, must be one of ['1d', '5d']\n",
      "AGBAW: Period 'max' is invalid, must be one of ['1d', '5d']\n",
      "$AGM^C: possibly delisted; No timezone found\n",
      "$AGM^D: possibly delisted; No timezone found\n",
      "$AGM^E: possibly delisted; No timezone found\n",
      "$AGM^F: possibly delisted; No timezone found\n",
      "$AGM^G: possibly delisted; No timezone found\n",
      "AGRIW: Period 'max' is invalid, must be one of ['1d', '5d']\n"
     ]
    },
    {
     "name": "stdout",
     "output_type": "stream",
     "text": [
      "200 out of 7087 complete\n"
     ]
    },
    {
     "name": "stderr",
     "output_type": "stream",
     "text": [
      "$AHH^A: possibly delisted; No timezone found\n",
      "$AHL^C: possibly delisted; No timezone found\n",
      "$AHL^D: possibly delisted; No timezone found\n",
      "$AHL^E: possibly delisted; No timezone found\n",
      "$AHT^D: possibly delisted; No timezone found\n",
      "$AHT^F: possibly delisted; No timezone found\n",
      "$AHT^G: possibly delisted; No timezone found\n",
      "$AHT^H: possibly delisted; No timezone found\n",
      "$AHT^I: possibly delisted; No timezone found\n",
      "AILEW: Period 'max' is invalid, must be one of ['1d', '5d']\n",
      "AIRJW: Period 'max' is invalid, must be one of ['1d', '5d']\n",
      "AISPW: Period 'max' is invalid, must be one of ['1d', '5d']\n",
      "AITRR: Period 'max' is invalid, must be one of ['1d', '5d']\n",
      "Failed to get ticker 'AKO/A' reason: Expecting value: line 1 column 1 (char 0)\n",
      "$AKO/A: possibly delisted; No timezone found\n",
      "Failed to get ticker 'AKO/B' reason: Expecting value: line 1 column 1 (char 0)\n",
      "$AKO/B: possibly delisted; No timezone found\n",
      "$AL^A: possibly delisted; No timezone found\n",
      "$ALB^A: possibly delisted; No timezone found\n",
      "ALCYW: Period 'max' is invalid, must be one of ['1d', '5d']\n",
      "$ALL^B: possibly delisted; No timezone found\n",
      "$ALL^H: possibly delisted; No timezone found\n",
      "$ALL^I: possibly delisted; No timezone found\n",
      "$ALL^J: possibly delisted; No timezone found\n",
      "ALSAW: Period 'max' is invalid, must be one of ['1d', '5d']\n",
      "$ALTG^A: possibly delisted; No timezone found\n",
      "ALVOW: Period 'max' is invalid, must be one of ['1d', '5d']\n",
      "$AMH^G: possibly delisted; No timezone found\n",
      "$AMH^H: possibly delisted; No timezone found\n",
      "$ANG^A: possibly delisted; No timezone found\n",
      "$ANG^B: possibly delisted; No timezone found\n",
      "ANGHW: Period 'max' is invalid, must be one of ['1d', '5d']\n",
      "ANSCW: Period 'max' is invalid, must be one of ['1d', '5d']\n"
     ]
    },
    {
     "name": "stdout",
     "output_type": "stream",
     "text": [
      "400 out of 7087 complete\n"
     ]
    },
    {
     "name": "stderr",
     "output_type": "stream",
     "text": [
      "AOGOW: Period 'max' is invalid, must be one of ['1d', '5d']\n",
      "APCXW: Period 'max' is invalid, must be one of ['1d', '5d']\n",
      "$APO^A: possibly delisted; No timezone found\n",
      "ARBEW: Period 'max' is invalid, must be one of ['1d', '5d']\n",
      "AREBW: Period 'max' is invalid, must be one of ['1d', '5d']\n",
      "$ARGO^A: possibly delisted; No timezone found\n",
      "$ARR^C: possibly delisted; No timezone found\n"
     ]
    },
    {
     "name": "stdout",
     "output_type": "stream",
     "text": [
      "500 out of 7087 complete\n"
     ]
    },
    {
     "name": "stderr",
     "output_type": "stream",
     "text": [
      "$ASB^E: possibly delisted; No timezone found\n",
      "$ASB^F: possibly delisted; No timezone found\n",
      "ASTLW: Period 'max' is invalid, must be one of ['1d', '5d']\n",
      "ASTSW: Period 'max' is invalid, must be one of ['1d', '5d']\n",
      "$ATCO^D: possibly delisted; No timezone found\n",
      "$ATCO^H: possibly delisted; No timezone found\n",
      "$ATH^A: possibly delisted; No timezone found\n",
      "$ATH^B: possibly delisted; No timezone found\n",
      "$ATH^C: possibly delisted; No timezone found\n",
      "$ATH^D: possibly delisted; No timezone found\n",
      "$ATH^E: possibly delisted; No timezone found\n",
      "ATMCR: Period 'max' is invalid, must be one of ['1d', '5d']\n",
      "ATMCW: Period 'max' is invalid, must be one of ['1d', '5d']\n",
      "ATMVR: Period 'max' is invalid, must be one of ['1d', '5d']\n",
      "ATNFW: Period 'max' is invalid, must be one of ['1d', '5d']\n"
     ]
    },
    {
     "name": "stdout",
     "output_type": "stream",
     "text": [
      "600 out of 7087 complete\n"
     ]
    },
    {
     "name": "stderr",
     "output_type": "stream",
     "text": [
      "$AUB^A: possibly delisted; No timezone found\n",
      "$AULT^D: possibly delisted; No timezone found\n",
      "AUROW: Period 'max' is invalid, must be one of ['1d', '5d']\n",
      "AUUDW: Period 'max' is invalid, must be one of ['1d', '5d']\n",
      "AVPTW: Period 'max' is invalid, must be one of ['1d', '5d']\n",
      "$AXS^E: possibly delisted; No timezone found\n",
      "$BAC^B: possibly delisted; No timezone found\n",
      "$BAC^E: possibly delisted; No timezone found\n",
      "$BAC^K: possibly delisted; No timezone found\n",
      "$BAC^L: possibly delisted; No timezone found\n",
      "$BAC^M: possibly delisted; No timezone found\n",
      "$BAC^N: possibly delisted; No timezone found\n",
      "$BAC^O: possibly delisted; No timezone found\n",
      "$BAC^P: possibly delisted; No timezone found\n",
      "$BAC^Q: possibly delisted; No timezone found\n",
      "$BAC^S: possibly delisted; No timezone found\n",
      "BAERW: Period 'max' is invalid, must be one of ['1d', '5d']\n"
     ]
    },
    {
     "name": "stdout",
     "output_type": "stream",
     "text": [
      "700 out of 7087 complete\n"
     ]
    },
    {
     "name": "stderr",
     "output_type": "stream",
     "text": [
      "$BANC^F: possibly delisted; No timezone found\n",
      "$BC^A: possibly delisted; No timezone found\n",
      "$BC^B: possibly delisted; No timezone found\n",
      "$BC^C: possibly delisted; No timezone found\n",
      "BCDAW: Period 'max' is invalid, must be one of ['1d', '5d']\n",
      "BCGWW: Period 'max' is invalid, must be one of ['1d', '5d']\n",
      "BCSAW: Period 'max' is invalid, must be one of ['1d', '5d']\n",
      "BCTXW: Period 'max' is invalid, must be one of ['1d', '5d']\n",
      "$BCV^A: possibly delisted; No timezone found\n",
      "BEATW: Period 'max' is invalid, must be one of ['1d', '5d']\n",
      "BENFW: Period 'max' is invalid, must be one of ['1d', '5d']\n"
     ]
    },
    {
     "name": "stdout",
     "output_type": "stream",
     "text": [
      "800 out of 7087 complete\n"
     ]
    },
    {
     "name": "stderr",
     "output_type": "stream",
     "text": [
      "$BEP^A: possibly delisted; No timezone found\n",
      "BETRW: Period 'max' is invalid, must be one of ['1d', '5d']\n",
      "Failed to get ticker 'BF/A' reason: Expecting value: line 1 column 1 (char 0)\n",
      "$BF/A: possibly delisted; No timezone found\n",
      "Failed to get ticker 'BF/B' reason: Expecting value: line 1 column 1 (char 0)\n",
      "$BF/B: possibly delisted; No timezone found\n",
      "BFIIW: Period 'max' is invalid, must be one of ['1d', '5d']\n",
      "BFRGW: Period 'max' is invalid, must be one of ['1d', '5d']\n",
      "BFRIW: Period 'max' is invalid, must be one of ['1d', '5d']\n",
      "$BFS^D: possibly delisted; No timezone found\n",
      "$BFS^E: possibly delisted; No timezone found\n",
      "$BHR^B: possibly delisted; No timezone found\n",
      "$BHR^D: possibly delisted; No timezone found\n",
      "BIAFW: Period 'max' is invalid, must be one of ['1d', '5d']\n",
      "Failed to get ticker 'BIO/B' reason: Expecting value: line 1 column 1 (char 0)\n",
      "$BIO/B: possibly delisted; No timezone found\n",
      "$BIP^A: possibly delisted; No timezone found\n",
      "$BIP^B: possibly delisted; No timezone found\n"
     ]
    },
    {
     "name": "stdout",
     "output_type": "stream",
     "text": [
      "900 out of 7087 complete\n"
     ]
    },
    {
     "name": "stderr",
     "output_type": "stream",
     "text": [
      "BKHAR: Period 'max' is invalid, must be one of ['1d', '5d']\n",
      "BLACR: Period 'max' is invalid, must be one of ['1d', '5d']\n",
      "BLACW: Period 'max' is invalid, must be one of ['1d', '5d']\n",
      "BLDEW: Period 'max' is invalid, must be one of ['1d', '5d']\n",
      "BLEUR: Period 'max' is invalid, must be one of ['1d', '5d']\n",
      "$BML^G: possibly delisted; No timezone found\n",
      "$BML^H: possibly delisted; No timezone found\n",
      "$BML^J: possibly delisted; No timezone found\n",
      "$BML^L: possibly delisted; No timezone found\n",
      "BNAIW: Period 'max' is invalid, must be one of ['1d', '5d']\n",
      "BNIXR: Period 'max' is invalid, must be one of ['1d', '5d']\n",
      "BNZIW: Period 'max' is invalid, must be one of ['1d', '5d']\n",
      "$BOH^A: possibly delisted; No timezone found\n",
      "$BOH^B: possibly delisted; No timezone found\n"
     ]
    },
    {
     "name": "stdout",
     "output_type": "stream",
     "text": [
      "1000 out of 7087 complete\n"
     ]
    },
    {
     "name": "stderr",
     "output_type": "stream",
     "text": [
      "Failed to get ticker 'BRK/A' reason: Expecting value: line 1 column 1 (char 0)\n",
      "$BRK/A: possibly delisted; No timezone found\n",
      "Failed to get ticker 'BRK/B' reason: Expecting value: line 1 column 1 (char 0)\n",
      "$BRK/B: possibly delisted; No timezone found\n",
      "BRKHW: Period 'max' is invalid, must be one of ['1d', '5d']\n",
      "BRLSW: Period 'max' is invalid, must be one of ['1d', '5d']\n",
      "BROGW: Period 'max' is invalid, must be one of ['1d', '5d']\n",
      "BTBDW: Period 'max' is invalid, must be one of ['1d', '5d']\n",
      "BTCTW: Period 'max' is invalid, must be one of ['1d', '5d']\n",
      "BTMWW: Period 'max' is invalid, must be one of ['1d', '5d']\n",
      "BUJAR: Period 'max' is invalid, must be one of ['1d', '5d']\n",
      "BUJAW: Period 'max' is invalid, must be one of ['1d', '5d']\n"
     ]
    },
    {
     "name": "stdout",
     "output_type": "stream",
     "text": [
      "1100 out of 7087 complete\n"
     ]
    },
    {
     "name": "stderr",
     "output_type": "stream",
     "text": [
      "$BW^A: possibly delisted; No timezone found\n",
      "BZFDW: Period 'max' is invalid, must be one of ['1d', '5d']\n",
      "$C^N: possibly delisted; No timezone found\n",
      "$CADE^A: possibly delisted; No timezone found\n",
      "CAPTW: Period 'max' is invalid, must be one of ['1d', '5d']\n"
     ]
    },
    {
     "name": "stdout",
     "output_type": "stream",
     "text": [
      "1200 out of 7087 complete\n"
     ]
    },
    {
     "name": "stderr",
     "output_type": "stream",
     "text": [
      "CCIXW: Period 'max' is invalid, must be one of ['1d', '5d']\n",
      "CCTSW: Period 'max' is invalid, must be one of ['1d', '5d']\n",
      "CDAQW: Period 'max' is invalid, must be one of ['1d', '5d']\n",
      "CDIOW: Period 'max' is invalid, must be one of ['1d', '5d']\n",
      "$CDR^B: possibly delisted; No timezone found\n",
      "$CDR^C: possibly delisted; No timezone found\n",
      "CDROW: Period 'max' is invalid, must be one of ['1d', '5d']\n",
      "CDTTW: Period 'max' is invalid, must be one of ['1d', '5d']\n",
      "CEADW: Period 'max' is invalid, must be one of ['1d', '5d']\n",
      "CELUW: Period 'max' is invalid, must be one of ['1d', '5d']\n",
      "CEROW: Period 'max' is invalid, must be one of ['1d', '5d']\n",
      "CETUR: Period 'max' is invalid, must be one of ['1d', '5d']\n",
      "CETUW: Period 'max' is invalid, must be one of ['1d', '5d']\n",
      "$CFG^E: possibly delisted; No timezone found\n",
      "$CFG^H: possibly delisted; No timezone found\n",
      "$CFR^B: possibly delisted; No timezone found\n",
      "CGBSW: Period 'max' is invalid, must be one of ['1d', '5d']\n",
      "$CHMI^A: possibly delisted; No timezone found\n",
      "$CHMI^B: possibly delisted; No timezone found\n",
      "CIFRW: Period 'max' is invalid, must be one of ['1d', '5d']\n",
      "$CIM^A: possibly delisted; No timezone found\n",
      "$CIM^B: possibly delisted; No timezone found\n",
      "$CIM^C: possibly delisted; No timezone found\n",
      "$CIM^D: possibly delisted; No timezone found\n",
      "CINGW: Period 'max' is invalid, must be one of ['1d', '5d']\n",
      "$CIO^A: possibly delisted; No timezone found\n"
     ]
    },
    {
     "name": "stdout",
     "output_type": "stream",
     "text": [
      "1400 out of 7087 complete\n"
     ]
    },
    {
     "name": "stderr",
     "output_type": "stream",
     "text": [
      "CITEW: Period 'max' is invalid, must be one of ['1d', '5d']\n",
      "CLBTW: Period 'max' is invalid, must be one of ['1d', '5d']\n",
      "$CLDT^A: possibly delisted; No timezone found\n",
      "CLNNW: Period 'max' is invalid, must be one of ['1d', '5d']\n",
      "CLOER: Period 'max' is invalid, must be one of ['1d', '5d']\n",
      "CMAXW: Period 'max' is invalid, must be one of ['1d', '5d']\n",
      "CMPOW: Period 'max' is invalid, must be one of ['1d', '5d']\n",
      "$CMRE^B: possibly delisted; No timezone found\n",
      "$CMRE^C: possibly delisted; No timezone found\n",
      "$CMRE^D: possibly delisted; No timezone found\n",
      "$CMRE^E: possibly delisted; No timezone found\n",
      "$CMS^B: possibly delisted; No timezone found\n",
      "$CMS^C: possibly delisted; No timezone found\n",
      "CNFRZ: Period 'max' is invalid, must be one of ['1d', '5d']\n",
      "$CNO^A: possibly delisted; No timezone found\n",
      "COCHW: Period 'max' is invalid, must be one of ['1d', '5d']\n",
      "$CODI^A: possibly delisted; No timezone found\n",
      "$CODI^B: possibly delisted; No timezone found\n",
      "$CODI^C: possibly delisted; No timezone found\n",
      "$COF^I: possibly delisted; No timezone found\n",
      "$COF^J: possibly delisted; No timezone found\n",
      "$COF^K: possibly delisted; No timezone found\n",
      "$COF^L: possibly delisted; No timezone found\n",
      "$COF^N: possibly delisted; No timezone found\n",
      "COOTW: Period 'max' is invalid, must be one of ['1d', '5d']\n",
      "CORZW: Period 'max' is invalid, must be one of ['1d', '5d']\n",
      "CORZZ: Period 'max' is invalid, must be one of ['1d', '5d']\n",
      "CPTNW: Period 'max' is invalid, must be one of ['1d', '5d']\n",
      "Failed to get ticker 'CRD/A' reason: Expecting value: line 1 column 1 (char 0)\n",
      "$CRD/A: possibly delisted; No timezone found\n",
      "Failed to get ticker 'CRD/B' reason: Expecting value: line 1 column 1 (char 0)\n",
      "$CRD/B: possibly delisted; No timezone found\n",
      "CRESW: Period 'max' is invalid, must be one of ['1d', '5d']\n",
      "CREVW: Period 'max' is invalid, must be one of ['1d', '5d']\n",
      "CRMLW: Period 'max' is invalid, must be one of ['1d', '5d']\n",
      "CSLRW: Period 'max' is invalid, must be one of ['1d', '5d']\n",
      "$CSR^C: possibly delisted; No timezone found\n",
      "$CTA^A: possibly delisted; No timezone found\n",
      "$CTA^B: possibly delisted; No timezone found\n",
      "CTCXW: Period 'max' is invalid, must be one of ['1d', '5d']\n",
      "$CTO^A: possibly delisted; No timezone found\n"
     ]
    },
    {
     "name": "stdout",
     "output_type": "stream",
     "text": [
      "1700 out of 7087 complete\n"
     ]
    },
    {
     "name": "stderr",
     "output_type": "stream",
     "text": [
      "$CUBI^E: possibly delisted; No timezone found\n",
      "$CUBI^F: possibly delisted; No timezone found\n",
      "CURIW: Period 'max' is invalid, must be one of ['1d', '5d']\n",
      "CVIIW: Period 'max' is invalid, must be one of ['1d', '5d']\n",
      "CXAIW: Period 'max' is invalid, must be one of ['1d', '5d']\n",
      "DAVEW: Period 'max' is invalid, must be one of ['1d', '5d']\n",
      "$DBRG^H: possibly delisted; No timezone found\n",
      "$DBRG^I: possibly delisted; No timezone found\n",
      "$DBRG^J: possibly delisted; No timezone found\n",
      "DECAW: Period 'max' is invalid, must be one of ['1d', '5d']\n",
      "DFLIW: Period 'max' is invalid, must be one of ['1d', '5d']\n",
      "DHAIW: Period 'max' is invalid, must be one of ['1d', '5d']\n",
      "DHCNL: Period 'max' is invalid, must be one of ['1d', '5d']\n",
      "DISTR: Period 'max' is invalid, must be one of ['1d', '5d']\n",
      "DISTW: Period 'max' is invalid, must be one of ['1d', '5d']\n",
      "$DLNG^A: possibly delisted; No timezone found\n",
      "$DLNG^B: possibly delisted; No timezone found\n",
      "$DLR^J: possibly delisted; No timezone found\n",
      "$DLR^K: possibly delisted; No timezone found\n",
      "$DLR^L: possibly delisted; No timezone found\n"
     ]
    },
    {
     "name": "stdout",
     "output_type": "stream",
     "text": [
      "1900 out of 7087 complete\n"
     ]
    },
    {
     "name": "stderr",
     "output_type": "stream",
     "text": [
      "DPCSW: Period 'max' is invalid, must be one of ['1d', '5d']\n",
      "$DRH^A: possibly delisted; No timezone found\n",
      "DRMAW: Period 'max' is invalid, must be one of ['1d', '5d']\n",
      "DRTSW: Period 'max' is invalid, must be one of ['1d', '5d']\n",
      "$DSX^B: possibly delisted; No timezone found\n",
      "DSYWW: Period 'max' is invalid, must be one of ['1d', '5d']\n",
      "DTSTW: Period 'max' is invalid, must be one of ['1d', '5d']\n",
      "$DUK^A: possibly delisted; No timezone found\n",
      "$DX^C: possibly delisted; No timezone found\n",
      "$ECC           : possibly delisted; No timezone found\n",
      "$ECC^D: possibly delisted; No timezone found\n",
      "$ECF^A: possibly delisted; No timezone found\n",
      "ECXWW: Period 'max' is invalid, must be one of ['1d', '5d']\n",
      "EDBLW: Period 'max' is invalid, must be one of ['1d', '5d']\n",
      "$EFC^A: possibly delisted; No timezone found\n",
      "$EFC^B: possibly delisted; No timezone found\n",
      "$EFC^C: possibly delisted; No timezone found\n",
      "$EFC^D: possibly delisted; No timezone found\n",
      "$EFC^E: possibly delisted; No timezone found\n",
      "EMLDW: Period 'max' is invalid, must be one of ['1d', '5d']\n",
      "ENGNW: Period 'max' is invalid, must be one of ['1d', '5d']\n",
      "$EP^C: possibly delisted; No timezone found\n",
      "$EPR^C: possibly delisted; No timezone found\n",
      "$EPR^E: possibly delisted; No timezone found\n",
      "$EPR^G: possibly delisted; No timezone found\n",
      "$EQC^D: possibly delisted; No timezone found\n",
      "$EQH^A: possibly delisted; No timezone found\n",
      "$EQH^C: possibly delisted; No timezone found\n"
     ]
    },
    {
     "name": "stdout",
     "output_type": "stream",
     "text": [
      "2200 out of 7087 complete\n"
     ]
    },
    {
     "name": "stderr",
     "output_type": "stream",
     "text": [
      "$ET^I: possibly delisted; No timezone found\n",
      "$ETI^: possibly delisted; No timezone found\n",
      "$ETX           : possibly delisted; No timezone found\n",
      "EUDAW: Period 'max' is invalid, must be one of ['1d', '5d']\n",
      "EVGRW: Period 'max' is invalid, must be one of ['1d', '5d']\n",
      "EVLVW: Period 'max' is invalid, must be one of ['1d', '5d']\n"
     ]
    },
    {
     "name": "stdout",
     "output_type": "stream",
     "text": [
      "2300 out of 7087 complete\n"
     ]
    },
    {
     "name": "stderr",
     "output_type": "stream",
     "text": [
      "$F^B: possibly delisted; No timezone found\n",
      "$F^C: possibly delisted; No timezone found\n",
      "$F^D: possibly delisted; No timezone found\n",
      "FAASW: Period 'max' is invalid, must be one of ['1d', '5d']\n",
      "FATBW: Period 'max' is invalid, must be one of ['1d', '5d']\n",
      "$FBRT^E: possibly delisted; No timezone found\n",
      "FBYDW: Period 'max' is invalid, must be one of ['1d', '5d']\n",
      "FEXDW: Period 'max' is invalid, must be one of ['1d', '5d']\n",
      "FFIEW: Period 'max' is invalid, must be one of ['1d', '5d']\n"
     ]
    },
    {
     "name": "stdout",
     "output_type": "stream",
     "text": [
      "2400 out of 7087 complete\n"
     ]
    },
    {
     "name": "stderr",
     "output_type": "stream",
     "text": [
      "FGIWW: Period 'max' is invalid, must be one of ['1d', '5d']\n",
      "$FHN^B: possibly delisted; No timezone found\n",
      "$FHN^C: possibly delisted; No timezone found\n",
      "$FHN^E: possibly delisted; No timezone found\n",
      "$FHN^F: possibly delisted; No timezone found\n",
      "FIACW: Period 'max' is invalid, must be one of ['1d', '5d']\n",
      "FMSTW: Period 'max' is invalid, must be one of ['1d', '5d']\n",
      "FNVTW: Period 'max' is invalid, must be one of ['1d', '5d']\n",
      "FORLW: Period 'max' is invalid, must be one of ['1d', '5d']\n",
      "$FRT^C: possibly delisted; No timezone found\n",
      "FTIIW: Period 'max' is invalid, must be one of ['1d', '5d']\n",
      "FUFUW: Period 'max' is invalid, must be one of ['1d', '5d']\n",
      "$GAB^G: possibly delisted; No timezone found\n",
      "$GAB^H: possibly delisted; No timezone found\n",
      "$GAB^K: possibly delisted; No timezone found\n",
      "$GAM^B: possibly delisted; No timezone found\n",
      "GAMCW: Period 'max' is invalid, must be one of ['1d', '5d']\n",
      "GBBKR: Period 'max' is invalid, must be one of ['1d', '5d']\n",
      "GBBKW: Period 'max' is invalid, must be one of ['1d', '5d']\n",
      "GCMGW: Period 'max' is invalid, must be one of ['1d', '5d']\n",
      "GDEVW: Period 'max' is invalid, must be one of ['1d', '5d']\n",
      "GDSTW: Period 'max' is invalid, must be one of ['1d', '5d']\n",
      "$GDV^H: possibly delisted; No timezone found\n",
      "$GDV^K: possibly delisted; No timezone found\n",
      "GECCZ: Period 'max' is invalid, must be one of ['1d', '5d']\n",
      "GFAIW: Period 'max' is invalid, must be one of ['1d', '5d']\n",
      "$GGN^B: possibly delisted; No timezone found\n",
      "GGROW: Period 'max' is invalid, must be one of ['1d', '5d']\n",
      "$GGT^E: possibly delisted; No timezone found\n",
      "$GGT^G: possibly delisted; No timezone found\n"
     ]
    },
    {
     "name": "stdout",
     "output_type": "stream",
     "text": [
      "2700 out of 7087 complete\n"
     ]
    },
    {
     "name": "stderr",
     "output_type": "stream",
     "text": [
      "GHIXW: Period 'max' is invalid, must be one of ['1d', '5d']\n",
      "GIPRW: Period 'max' is invalid, must be one of ['1d', '5d']\n",
      "$GL^D: possibly delisted; No timezone found\n",
      "$GLOP^A: possibly delisted; No timezone found\n",
      "$GLOP^B: possibly delisted; No timezone found\n",
      "$GLOP^C: possibly delisted; No timezone found\n",
      "$GLP^B: possibly delisted; No timezone found\n",
      "GLSTR: Period 'max' is invalid, must be one of ['1d', '5d']\n",
      "GLSTW: Period 'max' is invalid, must be one of ['1d', '5d']\n",
      "$GLU^A: possibly delisted; No timezone found\n",
      "$GLU^B: possibly delisted; No timezone found\n",
      "$GMRE^A: possibly delisted; No timezone found\n",
      "$GNL^A: possibly delisted; No timezone found\n",
      "$GNL^B: possibly delisted; No timezone found\n",
      "$GNL^D: possibly delisted; No timezone found\n",
      "$GNL^E: possibly delisted; No timezone found\n",
      "$GNT^A: possibly delisted; No timezone found\n",
      "GODNR: Period 'max' is invalid, must be one of ['1d', '5d']\n",
      "GOEVW: Period 'max' is invalid, must be one of ['1d', '5d']\n",
      "GOVXW: Period 'max' is invalid, must be one of ['1d', '5d']\n",
      "GPATW: Period 'max' is invalid, must be one of ['1d', '5d']\n",
      "$GPMT^A: possibly delisted; No timezone found\n",
      "$GRBK^A: possibly delisted; No timezone found\n",
      "GRDIW: Period 'max' is invalid, must be one of ['1d', '5d']\n",
      "GROMW: Period 'max' is invalid, must be one of ['1d', '5d']\n",
      "GRRRW: Period 'max' is invalid, must be one of ['1d', '5d']\n",
      "$GS^A: possibly delisted; No timezone found\n",
      "$GS^C: possibly delisted; No timezone found\n",
      "$GS^D: possibly delisted; No timezone found\n",
      "$GSL^B: possibly delisted; No timezone found\n",
      "GSMGW: Period 'max' is invalid, must be one of ['1d', '5d']\n",
      "GTACW: Period 'max' is invalid, must be one of ['1d', '5d']\n",
      "$GTLS^B: possibly delisted; No timezone found\n"
     ]
    },
    {
     "name": "stdout",
     "output_type": "stream",
     "text": [
      "2900 out of 7087 complete\n"
     ]
    },
    {
     "name": "stderr",
     "output_type": "stream",
     "text": [
      "$GUT^C: possibly delisted; No timezone found\n",
      "HCVIW: Period 'max' is invalid, must be one of ['1d', '5d']\n",
      "Failed to get ticker 'HEI/A' reason: Expecting value: line 1 column 1 (char 0)\n",
      "$HEI/A: possibly delisted; No timezone found\n",
      "$HFRO^A: possibly delisted; No timezone found\n",
      "HHGCW: Period 'max' is invalid, must be one of ['1d', '5d']\n",
      "$HIG^G: possibly delisted; No timezone found\n"
     ]
    },
    {
     "name": "stdout",
     "output_type": "stream",
     "text": [
      "3000 out of 7087 complete\n"
     ]
    },
    {
     "name": "stderr",
     "output_type": "stream",
     "text": [
      "$HL^B: possibly delisted; No timezone found\n",
      "HOFVW: Period 'max' is invalid, must be one of ['1d', '5d']\n",
      "HOLOW: Period 'max' is invalid, must be one of ['1d', '5d']\n",
      "HOVRW: Period 'max' is invalid, must be one of ['1d', '5d']\n",
      "$HPP^C: possibly delisted; No timezone found\n",
      "HSCSW: Period 'max' is invalid, must be one of ['1d', '5d']\n",
      "HSPOW: Period 'max' is invalid, must be one of ['1d', '5d']\n"
     ]
    },
    {
     "name": "stdout",
     "output_type": "stream",
     "text": [
      "3100 out of 7087 complete\n"
     ]
    },
    {
     "name": "stderr",
     "output_type": "stream",
     "text": [
      "HTZWW: Period 'max' is invalid, must be one of ['1d', '5d']\n",
      "HUBCW: Period 'max' is invalid, must be one of ['1d', '5d']\n",
      "HUBCZ: Period 'max' is invalid, must be one of ['1d', '5d']\n",
      "HUMAW: Period 'max' is invalid, must be one of ['1d', '5d']\n",
      "Failed to get ticker 'HVT/A' reason: Expecting value: line 1 column 1 (char 0)\n",
      "$HVT/A: possibly delisted; No timezone found\n",
      "$HWM^: possibly delisted; No timezone found\n",
      "HYMCW: Period 'max' is invalid, must be one of ['1d', '5d']\n",
      "HYZNW: Period 'max' is invalid, must be one of ['1d', '5d']\n",
      "IBACR: Period 'max' is invalid, must be one of ['1d', '5d']\n",
      "$ICR^A: possibly delisted; No timezone found\n",
      "ICUCW: Period 'max' is invalid, must be one of ['1d', '5d']\n"
     ]
    },
    {
     "name": "stdout",
     "output_type": "stream",
     "text": [
      "3200 out of 7087 complete\n"
     ]
    },
    {
     "name": "stderr",
     "output_type": "stream",
     "text": [
      "IGTAR: Period 'max' is invalid, must be one of ['1d', '5d']\n",
      "IGTAW: Period 'max' is invalid, must be one of ['1d', '5d']\n",
      "$IIPR^A: possibly delisted; No timezone found\n",
      "IMAQR: Period 'max' is invalid, must be one of ['1d', '5d']\n",
      "IMAQW: Period 'max' is invalid, must be one of ['1d', '5d']\n",
      "IMTXW: Period 'max' is invalid, must be one of ['1d', '5d']\n"
     ]
    },
    {
     "name": "stdout",
     "output_type": "stream",
     "text": [
      "3300 out of 7087 complete\n"
     ]
    },
    {
     "name": "stderr",
     "output_type": "stream",
     "text": [
      "$INN^E: possibly delisted; No timezone found\n",
      "$INN^F: possibly delisted; No timezone found\n",
      "INVZW: Period 'max' is invalid, must be one of ['1d', '5d']\n",
      "IPXXW: Period 'max' is invalid, must be one of ['1d', '5d']\n",
      "IRAAW: Period 'max' is invalid, must be one of ['1d', '5d']\n",
      "ISRLW: Period 'max' is invalid, must be one of ['1d', '5d']\n"
     ]
    },
    {
     "name": "stdout",
     "output_type": "stream",
     "text": [
      "3400 out of 7087 complete\n"
     ]
    },
    {
     "name": "stderr",
     "output_type": "stream",
     "text": [
      "IVCBW: Period 'max' is invalid, must be one of ['1d', '5d']\n",
      "IVCPW: Period 'max' is invalid, must be one of ['1d', '5d']\n",
      "IVDAW: Period 'max' is invalid, must be one of ['1d', '5d']\n",
      "$IVR^B: possibly delisted; No timezone found\n",
      "$IVR^C: possibly delisted; No timezone found\n",
      "JFBRW: Period 'max' is invalid, must be one of ['1d', '5d']\n",
      "$JPM^C: possibly delisted; No timezone found\n",
      "$JPM^D: possibly delisted; No timezone found\n",
      "$JPM^J: possibly delisted; No timezone found\n",
      "$JPM^K: possibly delisted; No timezone found\n",
      "$JPM^L: possibly delisted; No timezone found\n",
      "$JPM^M: possibly delisted; No timezone found\n",
      "JSPRW: Period 'max' is invalid, must be one of ['1d', '5d']\n",
      "JTAIW: Period 'max' is invalid, must be one of ['1d', '5d']\n",
      "$JXN^A: possibly delisted; No timezone found\n",
      "KACLR: Period 'max' is invalid, must be one of ['1d', '5d']\n",
      "KDLYW: Period 'max' is invalid, must be one of ['1d', '5d']\n",
      "$KEY^I: possibly delisted; No timezone found\n",
      "$KEY^J: possibly delisted; No timezone found\n",
      "$KEY^K: possibly delisted; No timezone found\n",
      "$KEY^L: possibly delisted; No timezone found\n",
      "$KIM^L: possibly delisted; No timezone found\n",
      "$KIM^M: possibly delisted; No timezone found\n",
      "$KIM^N: possibly delisted; No timezone found\n",
      "KITTW: Period 'max' is invalid, must be one of ['1d', '5d']\n"
     ]
    },
    {
     "name": "stdout",
     "output_type": "stream",
     "text": [
      "3600 out of 7087 complete\n"
     ]
    },
    {
     "name": "stderr",
     "output_type": "stream",
     "text": [
      "KPLTW: Period 'max' is invalid, must be one of ['1d', '5d']\n",
      "$KREF^A: possibly delisted; No timezone found\n",
      "KWESW: Period 'max' is invalid, must be one of ['1d', '5d']\n",
      "LCFYW: Period 'max' is invalid, must be one of ['1d', '5d']\n",
      "LDTCW: Period 'max' is invalid, must be one of ['1d', '5d']\n"
     ]
    },
    {
     "name": "stdout",
     "output_type": "stream",
     "text": [
      "3700 out of 7087 complete\n"
     ]
    },
    {
     "name": "stderr",
     "output_type": "stream",
     "text": [
      "LEXXW: Period 'max' is invalid, must be one of ['1d', '5d']\n",
      "LFLYW: Period 'max' is invalid, must be one of ['1d', '5d']\n",
      "$LFT^A: possibly delisted; No timezone found\n",
      "LGHLW: Period 'max' is invalid, must be one of ['1d', '5d']\n",
      "LIFWZ: Period 'max' is invalid, must be one of ['1d', '5d']\n",
      "$LNC^D: possibly delisted; No timezone found\n",
      "LNZAW: Period 'max' is invalid, must be one of ['1d', '5d']\n"
     ]
    },
    {
     "name": "stdout",
     "output_type": "stream",
     "text": [
      "3800 out of 7087 complete\n"
     ]
    },
    {
     "name": "stderr",
     "output_type": "stream",
     "text": [
      "LOTWW: Period 'max' is invalid, must be one of ['1d', '5d']\n",
      "LSBPW: Period 'max' is invalid, must be one of ['1d', '5d']\n",
      "LSEAW: Period 'max' is invalid, must be one of ['1d', '5d']\n",
      "LTRYW: Period 'max' is invalid, must be one of ['1d', '5d']\n",
      "LUNRW: Period 'max' is invalid, must be one of ['1d', '5d']\n",
      "LVROW: Period 'max' is invalid, must be one of ['1d', '5d']\n",
      "$LXP^C: possibly delisted; No timezone found\n"
     ]
    },
    {
     "name": "stdout",
     "output_type": "stream",
     "text": [
      "3900 out of 7087 complete\n"
     ]
    },
    {
     "name": "stderr",
     "output_type": "stream",
     "text": [
      "$MAA^I: possibly delisted; No timezone found\n",
      "MACAW: Period 'max' is invalid, must be one of ['1d', '5d']\n",
      "MAPSW: Period 'max' is invalid, must be one of ['1d', '5d']\n",
      "MAQCW: Period 'max' is invalid, must be one of ['1d', '5d']\n",
      "MARXR: Period 'max' is invalid, must be one of ['1d', '5d']\n",
      "MCAAW: Period 'max' is invalid, must be one of ['1d', '5d']\n",
      "MCACR: Period 'max' is invalid, must be one of ['1d', '5d']\n",
      "MCACW: Period 'max' is invalid, must be one of ['1d', '5d']\n",
      "MCAGR: Period 'max' is invalid, must be one of ['1d', '5d']\n",
      "MDAIW: Period 'max' is invalid, must be one of ['1d', '5d']\n",
      "$MDV^A: possibly delisted; No timezone found\n"
     ]
    },
    {
     "name": "stdout",
     "output_type": "stream",
     "text": [
      "4000 out of 7087 complete\n"
     ]
    },
    {
     "name": "stderr",
     "output_type": "stream",
     "text": [
      "$MER^K: possibly delisted; No timezone found\n",
      "$MET^A: possibly delisted; No timezone found\n",
      "$MET^E: possibly delisted; No timezone found\n",
      "$MET^F: possibly delisted; No timezone found\n",
      "$MFA^B: possibly delisted; No timezone found\n",
      "$MFA^C: possibly delisted; No timezone found\n",
      "MITAW: Period 'max' is invalid, must be one of ['1d', '5d']\n",
      "$MITT^A: possibly delisted; No timezone found\n",
      "$MITT^B: possibly delisted; No timezone found\n",
      "$MITT^C: possibly delisted; No timezone found\n",
      "MLECW: Period 'max' is invalid, must be one of ['1d', '5d']\n",
      "MMVWW: Period 'max' is invalid, must be one of ['1d', '5d']\n",
      "MNTSW: Period 'max' is invalid, must be one of ['1d', '5d']\n",
      "MOBXW: Period 'max' is invalid, must be one of ['1d', '5d']\n",
      "MRNOW: Period 'max' is invalid, must be one of ['1d', '5d']\n",
      "$MS^A: possibly delisted; No timezone found\n",
      "$MS^E: possibly delisted; No timezone found\n",
      "$MS^F: possibly delisted; No timezone found\n",
      "$MS^I: possibly delisted; No timezone found\n",
      "$MS^K: possibly delisted; No timezone found\n",
      "$MS^L: possibly delisted; No timezone found\n",
      "$MS^O: possibly delisted; No timezone found\n",
      "$MS^P: possibly delisted; No timezone found\n",
      "MSAIW: Period 'max' is invalid, must be one of ['1d', '5d']\n",
      "MSSAW: Period 'max' is invalid, must be one of ['1d', '5d']\n",
      "$MTB^H: possibly delisted; No timezone found\n",
      "$MTB^J: possibly delisted; No timezone found\n",
      "MVSTW: Period 'max' is invalid, must be one of ['1d', '5d']\n",
      "NBSTW: Period 'max' is invalid, must be one of ['1d', '5d']\n",
      "NCNCW: Period 'max' is invalid, must be one of ['1d', '5d']\n",
      "NCPLW: Period 'max' is invalid, must be one of ['1d', '5d']\n",
      "$NCV^A: possibly delisted; No timezone found\n",
      "$NCZ^A: possibly delisted; No timezone found\n",
      "$NEE^N: possibly delisted; No timezone found\n",
      "$NEE^R: possibly delisted; No timezone found\n",
      "$NEE^S: possibly delisted; No timezone found\n",
      "NEOVW: Period 'max' is invalid, must be one of ['1d', '5d']\n",
      "NETDW: Period 'max' is invalid, must be one of ['1d', '5d']\n"
     ]
    },
    {
     "name": "stdout",
     "output_type": "stream",
     "text": [
      "4400 out of 7087 complete\n"
     ]
    },
    {
     "name": "stderr",
     "output_type": "stream",
     "text": [
      "$NGL^B: possibly delisted; No timezone found\n",
      "$NGL^C: possibly delisted; No timezone found\n",
      "NIOBW: Period 'max' is invalid, must be one of ['1d', '5d']\n",
      "NKGNW: Period 'max' is invalid, must be one of ['1d', '5d']\n",
      "$NLY^F: possibly delisted; No timezone found\n",
      "$NLY^G: possibly delisted; No timezone found\n",
      "$NLY^I: possibly delisted; No timezone found\n",
      "NMHIW: Period 'max' is invalid, must be one of ['1d', '5d']\n",
      "NNAGR: Period 'max' is invalid, must be one of ['1d', '5d']\n",
      "NNAGW: Period 'max' is invalid, must be one of ['1d', '5d']\n",
      "NNAVW: Period 'max' is invalid, must be one of ['1d', '5d']\n",
      "NPABW: Period 'max' is invalid, must be one of ['1d', '5d']\n"
     ]
    },
    {
     "name": "stdout",
     "output_type": "stream",
     "text": [
      "4500 out of 7087 complete\n"
     ]
    },
    {
     "name": "stderr",
     "output_type": "stream",
     "text": [
      "$NREF^A: possibly delisted; No timezone found\n",
      "NRSNW: Period 'max' is invalid, must be one of ['1d', '5d']\n",
      "NRXPW: Period 'max' is invalid, must be one of ['1d', '5d']\n",
      "$NSA^A: possibly delisted; No timezone found\n",
      "NVACR: Period 'max' is invalid, must be one of ['1d', '5d']\n",
      "NVACW: Period 'max' is invalid, must be one of ['1d', '5d']\n",
      "NVNIW: Period 'max' is invalid, must be one of ['1d', '5d']\n",
      "NVVEW: Period 'max' is invalid, must be one of ['1d', '5d']\n",
      "NWTNW: Period 'max' is invalid, must be one of ['1d', '5d']\n",
      "$NXDT^A: possibly delisted; No timezone found\n",
      "NXGLW: Period 'max' is invalid, must be one of ['1d', '5d']\n",
      "NXLIW: Period 'max' is invalid, must be one of ['1d', '5d']\n",
      "NXPLW: Period 'max' is invalid, must be one of ['1d', '5d']\n",
      "$NYCB^A: possibly delisted; No timezone found\n",
      "$NYCB^U: possibly delisted; No timezone found\n",
      "$O^: possibly delisted; No timezone found\n",
      "OABIW: Period 'max' is invalid, must be one of ['1d', '5d']\n",
      "$OAK^A: possibly delisted; No timezone found\n",
      "$OAK^B: possibly delisted; No timezone found\n",
      "OAKUW: Period 'max' is invalid, must be one of ['1d', '5d']\n",
      "OCEAW: Period 'max' is invalid, must be one of ['1d', '5d']\n",
      "OCSAW: Period 'max' is invalid, must be one of ['1d', '5d']\n",
      "ODVWZ: Period 'max' is invalid, must be one of ['1d', '5d']\n"
     ]
    },
    {
     "name": "stdout",
     "output_type": "stream",
     "text": [
      "4700 out of 7087 complete\n"
     ]
    },
    {
     "name": "stderr",
     "output_type": "stream",
     "text": [
      "ONFOW: Period 'max' is invalid, must be one of ['1d', '5d']\n",
      "ONMDW: Period 'max' is invalid, must be one of ['1d', '5d']\n",
      "$OPP^A: possibly delisted; No timezone found\n",
      "$OPP^B: possibly delisted; No timezone found\n",
      "OPTXW: Period 'max' is invalid, must be one of ['1d', '5d']\n",
      "ORGNW: Period 'max' is invalid, must be one of ['1d', '5d']\n"
     ]
    },
    {
     "name": "stdout",
     "output_type": "stream",
     "text": [
      "4800 out of 7087 complete\n"
     ]
    },
    {
     "name": "stderr",
     "output_type": "stream",
     "text": [
      "OXBRW: Period 'max' is invalid, must be one of ['1d', '5d']\n",
      "PAVMZ: Period 'max' is invalid, must be one of ['1d', '5d']\n",
      "PAYOW: Period 'max' is invalid, must be one of ['1d', '5d']\n",
      "$PBI^B: possibly delisted; No timezone found\n",
      "PBMWW: Period 'max' is invalid, must be one of ['1d', '5d']\n",
      "$PCG^A: possibly delisted; No timezone found\n",
      "$PCG^B: possibly delisted; No timezone found\n",
      "$PCG^C: possibly delisted; No timezone found\n",
      "$PCG^D: possibly delisted; No timezone found\n",
      "$PCG^E: possibly delisted; No timezone found\n",
      "$PCG^G: possibly delisted; No timezone found\n",
      "$PCG^H: possibly delisted; No timezone found\n",
      "$PCG^I: possibly delisted; No timezone found\n"
     ]
    },
    {
     "name": "stdout",
     "output_type": "stream",
     "text": [
      "4900 out of 7087 complete\n"
     ]
    },
    {
     "name": "stderr",
     "output_type": "stream",
     "text": [
      "PCTTW: Period 'max' is invalid, must be one of ['1d', '5d']\n",
      "$PEB^E: possibly delisted; No timezone found\n",
      "$PEB^F: possibly delisted; No timezone found\n",
      "$PEB^G: possibly delisted; No timezone found\n",
      "$PEB^H: possibly delisted; No timezone found\n",
      "PETWW: Period 'max' is invalid, must be one of ['1d', '5d']\n"
     ]
    },
    {
     "name": "stdout",
     "output_type": "stream",
     "text": [
      "5000 out of 7087 complete\n"
     ]
    },
    {
     "name": "stderr",
     "output_type": "stream",
     "text": [
      "PLMIW: Period 'max' is invalid, must be one of ['1d', '5d']\n",
      "PLMJW: Period 'max' is invalid, must be one of ['1d', '5d']\n",
      "$PMT^A: possibly delisted; No timezone found\n",
      "$PMT^B: possibly delisted; No timezone found\n",
      "$PMT^C: possibly delisted; No timezone found\n"
     ]
    },
    {
     "name": "stdout",
     "output_type": "stream",
     "text": [
      "5100 out of 7087 complete\n"
     ]
    },
    {
     "name": "stderr",
     "output_type": "stream",
     "text": [
      "$PRE^J: possibly delisted; No timezone found\n",
      "PRENW: Period 'max' is invalid, must be one of ['1d', '5d']\n",
      "$PRIF^D: possibly delisted; No timezone found\n",
      "$PRIF^F: possibly delisted; No timezone found\n",
      "$PRIF^G: possibly delisted; No timezone found\n",
      "$PRIF^H: possibly delisted; No timezone found\n",
      "$PRIF^I: possibly delisted; No timezone found\n",
      "$PRIF^J: possibly delisted; No timezone found\n",
      "$PRIF^K: possibly delisted; No timezone found\n",
      "$PRIF^L: possibly delisted; No timezone found\n",
      "PRLHW: Period 'max' is invalid, must be one of ['1d', '5d']\n",
      "PROCW: Period 'max' is invalid, must be one of ['1d', '5d']\n",
      "PRSTW: Period 'max' is invalid, must be one of ['1d', '5d']\n",
      "$PSA^F: possibly delisted; No timezone found\n",
      "$PSA^G: possibly delisted; No timezone found\n",
      "$PSA^H: possibly delisted; No timezone found\n",
      "$PSA^I: possibly delisted; No timezone found\n",
      "$PSA^J: possibly delisted; No timezone found\n",
      "$PSA^K: possibly delisted; No timezone found\n",
      "$PSA^L: possibly delisted; No timezone found\n",
      "$PSA^M: possibly delisted; No timezone found\n",
      "$PSA^N: possibly delisted; No timezone found\n",
      "$PSA^O: possibly delisted; No timezone found\n",
      "$PSA^P: possibly delisted; No timezone found\n",
      "$PSA^Q: possibly delisted; No timezone found\n",
      "$PSA^R: possibly delisted; No timezone found\n",
      "$PSA^S: possibly delisted; No timezone found\n",
      "$PSEC^A: possibly delisted; No timezone found\n"
     ]
    },
    {
     "name": "stdout",
     "output_type": "stream",
     "text": [
      "5200 out of 7087 complete\n"
     ]
    },
    {
     "name": "stderr",
     "output_type": "stream",
     "text": [
      "PTWOW: Period 'max' is invalid, must be one of ['1d', '5d']\n",
      "$PW^A: possibly delisted; No timezone found\n",
      "PWUPW: Period 'max' is invalid, must be one of ['1d', '5d']\n",
      "PXSAW: Period 'max' is invalid, must be one of ['1d', '5d']\n",
      "QETAR: Period 'max' is invalid, must be one of ['1d', '5d']\n",
      "QSIAW: Period 'max' is invalid, must be one of ['1d', '5d']\n"
     ]
    },
    {
     "name": "stdout",
     "output_type": "stream",
     "text": [
      "5300 out of 7087 complete\n"
     ]
    },
    {
     "name": "stderr",
     "output_type": "stream",
     "text": [
      "$RC^C: possibly delisted; No timezone found\n",
      "$RC^E: possibly delisted; No timezone found\n",
      "RCKTW: Period 'max' is invalid, must be one of ['1d', '5d']\n",
      "RDZNW: Period 'max' is invalid, must be one of ['1d', '5d']\n",
      "RELIW: Period 'max' is invalid, must be one of ['1d', '5d']\n",
      "REVBW: Period 'max' is invalid, must be one of ['1d', '5d']\n",
      "$REXR^B: possibly delisted; No timezone found\n",
      "$REXR^C: possibly delisted; No timezone found\n",
      "$RF^B: possibly delisted; No timezone found\n",
      "$RF^C: possibly delisted; No timezone found\n",
      "$RF^E: possibly delisted; No timezone found\n",
      "RFAIR: Period 'max' is invalid, must be one of ['1d', '5d']\n"
     ]
    },
    {
     "name": "stdout",
     "output_type": "stream",
     "text": [
      "5400 out of 7087 complete\n"
     ]
    },
    {
     "name": "stderr",
     "output_type": "stream",
     "text": [
      "RGTIW: Period 'max' is invalid, must be one of ['1d', '5d']\n",
      "$RHE^A: possibly delisted; No timezone found\n",
      "$RITM^A: possibly delisted; No timezone found\n",
      "$RITM^B: possibly delisted; No timezone found\n",
      "$RITM^C: possibly delisted; No timezone found\n",
      "$RITM^D: possibly delisted; No timezone found\n",
      "$RIV^A: possibly delisted; No timezone found\n",
      "$RJF^B: possibly delisted; No timezone found\n",
      "$RLJ^A: possibly delisted; No timezone found\n",
      "RMCOW: Period 'max' is invalid, must be one of ['1d', '5d']\n",
      "$RMPL^: possibly delisted; No timezone found\n",
      "$RNR^F: possibly delisted; No timezone found\n",
      "$RNR^G: possibly delisted; No timezone found\n",
      "ROCLW: Period 'max' is invalid, must be one of ['1d', '5d']\n",
      "RUMBW: Period 'max' is invalid, must be one of ['1d', '5d']\n",
      "RVMDW: Period 'max' is invalid, must be one of ['1d', '5d']\n",
      "RVPHW: Period 'max' is invalid, must be one of ['1d', '5d']\n",
      "RVSNW: Period 'max' is invalid, must be one of ['1d', '5d']\n",
      "$RWT^A: possibly delisted; No timezone found\n",
      "SABSW: Period 'max' is invalid, must be one of ['1d', '5d']\n",
      "$SACH^A: possibly delisted; No timezone found\n",
      "$SAND          : possibly delisted; No timezone found\n",
      "SATLW: Period 'max' is invalid, must be one of ['1d', '5d']\n"
     ]
    },
    {
     "name": "stdout",
     "output_type": "stream",
     "text": [
      "5600 out of 7087 complete\n"
     ]
    },
    {
     "name": "stderr",
     "output_type": "stream",
     "text": [
      "$SB^C: possibly delisted; No timezone found\n",
      "$SB^D: possibly delisted; No timezone found\n",
      "$SCE^G: possibly delisted; No timezone found\n",
      "$SCE^H: possibly delisted; No timezone found\n",
      "$SCE^J: possibly delisted; No timezone found\n",
      "$SCE^K: possibly delisted; No timezone found\n",
      "$SCE^L: possibly delisted; No timezone found\n",
      "$SCE^M: possibly delisted; No timezone found\n",
      "$SCE^N: possibly delisted; No timezone found\n",
      "$SCHW^D: possibly delisted; No timezone found\n",
      "$SCHW^J: possibly delisted; No timezone found\n",
      "SCLXW: Period 'max' is invalid, must be one of ['1d', '5d']\n",
      "SDAWW: Period 'max' is invalid, must be one of ['1d', '5d']\n",
      "SDSTW: Period 'max' is invalid, must be one of ['1d', '5d']\n",
      "$SEAL^A: possibly delisted; No timezone found\n",
      "$SEAL^B: possibly delisted; No timezone found\n",
      "SEPAW: Period 'max' is invalid, must be one of ['1d', '5d']\n",
      "$SF^B: possibly delisted; No timezone found\n",
      "$SF^C: possibly delisted; No timezone found\n",
      "$SF^D: possibly delisted; No timezone found\n",
      "SFB: Period 'max' is invalid, must be one of ['1d', '5d']\n",
      "SHFSW: Period 'max' is invalid, must be one of ['1d', '5d']\n",
      "SHMDW: Period 'max' is invalid, must be one of ['1d', '5d']\n",
      "$SHO^H: possibly delisted; No timezone found\n",
      "$SHO^I: possibly delisted; No timezone found\n",
      "SHOTW: Period 'max' is invalid, must be one of ['1d', '5d']\n",
      "SHPWW: Period 'max' is invalid, must be one of ['1d', '5d']\n",
      "$SITC^A: possibly delisted; No timezone found\n"
     ]
    },
    {
     "name": "stdout",
     "output_type": "stream",
     "text": [
      "5800 out of 7087 complete\n"
     ]
    },
    {
     "name": "stderr",
     "output_type": "stream",
     "text": [
      "SLAMW: Period 'max' is invalid, must be one of ['1d', '5d']\n",
      "SLDPW: Period 'max' is invalid, must be one of ['1d', '5d']\n",
      "$SLG^I: possibly delisted; No timezone found\n",
      "SLNAW: Period 'max' is invalid, must be one of ['1d', '5d']\n",
      "SMXWW: Period 'max' is invalid, must be one of ['1d', '5d']\n",
      "SNAXW: Period 'max' is invalid, must be one of ['1d', '5d']\n",
      "$SNV^D: possibly delisted; No timezone found\n",
      "$SNV^E: possibly delisted; No timezone found\n",
      "SONDW: Period 'max' is invalid, must be one of ['1d', '5d']\n",
      "SOUNW: Period 'max' is invalid, must be one of ['1d', '5d']\n",
      "SPECW: Period 'max' is invalid, must be one of ['1d', '5d']\n",
      "$SPG^J: possibly delisted; No timezone found\n",
      "SPKLW: Period 'max' is invalid, must be one of ['1d', '5d']\n",
      "$SPLP^A: possibly delisted; No timezone found\n",
      "$SPNT^B: possibly delisted; No timezone found\n",
      "SQFTW: Period 'max' is invalid, must be one of ['1d', '5d']\n",
      "$SR^A: possibly delisted; No timezone found\n",
      "$SRG^A: possibly delisted; No timezone found\n"
     ]
    },
    {
     "name": "stdout",
     "output_type": "stream",
     "text": [
      "6000 out of 7087 complete\n"
     ]
    },
    {
     "name": "stderr",
     "output_type": "stream",
     "text": [
      "SRZNW: Period 'max' is invalid, must be one of ['1d', '5d']\n",
      "STSSW: Period 'max' is invalid, must be one of ['1d', '5d']\n",
      "$STT^G: possibly delisted; No timezone found\n",
      "SURGW: Period 'max' is invalid, must be one of ['1d', '5d']\n",
      "SVIIW: Period 'max' is invalid, must be one of ['1d', '5d']\n",
      "SVMHW: Period 'max' is invalid, must be one of ['1d', '5d']\n"
     ]
    },
    {
     "name": "stdout",
     "output_type": "stream",
     "text": [
      "6100 out of 7087 complete\n"
     ]
    },
    {
     "name": "stderr",
     "output_type": "stream",
     "text": [
      "SWVLW: Period 'max' is invalid, must be one of ['1d', '5d']\n",
      "SXTPW: Period 'max' is invalid, must be one of ['1d', '5d']\n",
      "$SYF^A: possibly delisted; No timezone found\n",
      "$SYF^B: possibly delisted; No timezone found\n",
      "SYTAW: Period 'max' is invalid, must be one of ['1d', '5d']\n",
      "$T^A: possibly delisted; No timezone found\n",
      "$T^C: possibly delisted; No timezone found\n",
      "TALKW: Period 'max' is invalid, must be one of ['1d', '5d']\n",
      "TBLAW: Period 'max' is invalid, must be one of ['1d', '5d']\n",
      "$TDS^U: possibly delisted; No timezone found\n",
      "$TDS^V: possibly delisted; No timezone found\n"
     ]
    },
    {
     "name": "stdout",
     "output_type": "stream",
     "text": [
      "6200 out of 7087 complete\n"
     ]
    },
    {
     "name": "stderr",
     "output_type": "stream",
     "text": [
      "$TEN^E: possibly delisted; No timezone found\n",
      "$TEN^F: possibly delisted; No timezone found\n",
      "TENKR: Period 'max' is invalid, must be one of ['1d', '5d']\n",
      "TETEW: Period 'max' is invalid, must be one of ['1d', '5d']\n",
      "$TFC^I: possibly delisted; No timezone found\n",
      "$TFC^O: possibly delisted; No timezone found\n",
      "$TFC^R: possibly delisted; No timezone found\n",
      "TGAAW: Period 'max' is invalid, must be one of ['1d', '5d']\n",
      "THCPW: Period 'max' is invalid, must be one of ['1d', '5d']\n",
      "TLGYW: Period 'max' is invalid, must be one of ['1d', '5d']\n"
     ]
    },
    {
     "name": "stdout",
     "output_type": "stream",
     "text": [
      "6300 out of 7087 complete\n"
     ]
    },
    {
     "name": "stderr",
     "output_type": "stream",
     "text": [
      "TMTCR: Period 'max' is invalid, must be one of ['1d', '5d']\n",
      "TNONW: Period 'max' is invalid, must be one of ['1d', '5d']\n",
      "TOIIW: Period 'max' is invalid, must be one of ['1d', '5d']\n",
      "TRONW: Period 'max' is invalid, must be one of ['1d', '5d']\n",
      "$TRTN^A: possibly delisted; No timezone found\n",
      "$TRTN^B: possibly delisted; No timezone found\n",
      "$TRTN^C: possibly delisted; No timezone found\n",
      "$TRTN^D: possibly delisted; No timezone found\n",
      "$TRTN^E: possibly delisted; No timezone found\n",
      "$TRTX^C: possibly delisted; No timezone found\n"
     ]
    },
    {
     "name": "stdout",
     "output_type": "stream",
     "text": [
      "6400 out of 7087 complete\n"
     ]
    },
    {
     "name": "stderr",
     "output_type": "stream",
     "text": [
      "$TWO^A: possibly delisted; No timezone found\n",
      "$TWO^B: possibly delisted; No timezone found\n",
      "$TWO^C: possibly delisted; No timezone found\n",
      "$TY^: possibly delisted; No timezone found\n"
     ]
    },
    {
     "name": "stdout",
     "output_type": "stream",
     "text": [
      "6500 out of 7087 complete\n"
     ]
    },
    {
     "name": "stderr",
     "output_type": "stream",
     "text": [
      "UHGWW: Period 'max' is invalid, must be one of ['1d', '5d']\n",
      "UKOMW: Period 'max' is invalid, must be one of ['1d', '5d']\n",
      "$UMH^D: possibly delisted; No timezone found\n",
      "$USB^A: possibly delisted; No timezone found\n",
      "$USB^H: possibly delisted; No timezone found\n",
      "$USB^P: possibly delisted; No timezone found\n",
      "$USB^Q: possibly delisted; No timezone found\n",
      "$USB^R: possibly delisted; No timezone found\n",
      "$USB^S: possibly delisted; No timezone found\n",
      "USGOW: Period 'max' is invalid, must be one of ['1d', '5d']\n"
     ]
    },
    {
     "name": "stdout",
     "output_type": "stream",
     "text": [
      "6600 out of 7087 complete\n"
     ]
    },
    {
     "name": "stderr",
     "output_type": "stream",
     "text": [
      "VGASW: Period 'max' is invalid, must be one of ['1d', '5d']\n",
      "$VNO^L: possibly delisted; No timezone found\n",
      "$VNO^M: possibly delisted; No timezone found\n",
      "$VNO^N: possibly delisted; No timezone found\n",
      "$VNO^O: possibly delisted; No timezone found\n"
     ]
    },
    {
     "name": "stdout",
     "output_type": "stream",
     "text": [
      "6700 out of 7087 complete\n"
     ]
    },
    {
     "name": "stderr",
     "output_type": "stream",
     "text": [
      "$VOYA^B: possibly delisted; No timezone found\n",
      "VRMEW: Period 'max' is invalid, must be one of ['1d', '5d']\n",
      "VSEEW: Period 'max' is invalid, must be one of ['1d', '5d']\n",
      "VSTEW: Period 'max' is invalid, must be one of ['1d', '5d']\n",
      "VWEWW: Period 'max' is invalid, must be one of ['1d', '5d']\n",
      "$WAL^A: possibly delisted; No timezone found\n",
      "$WBS^F: possibly delisted; No timezone found\n",
      "$WBS^G: possibly delisted; No timezone found\n",
      "$WCC^A: possibly delisted; No timezone found\n",
      "WENAW: Period 'max' is invalid, must be one of ['1d', '5d']\n",
      "WESTW: Period 'max' is invalid, must be one of ['1d', '5d']\n",
      "$WFC^A: possibly delisted; No timezone found\n",
      "$WFC^C: possibly delisted; No timezone found\n",
      "$WFC^D: possibly delisted; No timezone found\n",
      "$WFC^L: possibly delisted; No timezone found\n",
      "$WFC^Y: possibly delisted; No timezone found\n",
      "$WFC^Z: possibly delisted; No timezone found\n",
      "WGSWW: Period 'max' is invalid, must be one of ['1d', '5d']\n",
      "WINVR: Period 'max' is invalid, must be one of ['1d', '5d']\n",
      "WINVW: Period 'max' is invalid, must be one of ['1d', '5d']\n",
      "WKSPW: Period 'max' is invalid, must be one of ['1d', '5d']\n",
      "WLDSW: Period 'max' is invalid, must be one of ['1d', '5d']\n"
     ]
    },
    {
     "name": "stdout",
     "output_type": "stream",
     "text": [
      "6900 out of 7087 complete\n"
     ]
    },
    {
     "name": "stderr",
     "output_type": "stream",
     "text": [
      "$WRB^E: possibly delisted; No timezone found\n",
      "$WRB^F: possibly delisted; No timezone found\n",
      "$WRB^G: possibly delisted; No timezone found\n",
      "$WRB^H: possibly delisted; No timezone found\n",
      "Failed to get ticker 'WSO/B' reason: Expecting value: line 1 column 1 (char 0)\n",
      "$WSO/B: possibly delisted; No timezone found\n",
      "XBPEW: Period 'max' is invalid, must be one of ['1d', '5d']\n",
      "XFINW: Period 'max' is invalid, must be one of ['1d', '5d']\n",
      "$XFLT^A: possibly delisted; No timezone found\n",
      "XOSWW: Period 'max' is invalid, must be one of ['1d', '5d']\n"
     ]
    },
    {
     "name": "stdout",
     "output_type": "stream",
     "text": [
      "7000 out of 7087 complete\n"
     ]
    },
    {
     "name": "stderr",
     "output_type": "stream",
     "text": [
      "$YCBD^A: possibly delisted; No timezone found\n",
      "ZAPPW: Period 'max' is invalid, must be one of ['1d', '5d']\n",
      "ZCARW: Period 'max' is invalid, must be one of ['1d', '5d']\n",
      "ZEOWW: Period 'max' is invalid, must be one of ['1d', '5d']\n",
      "ZOOZW: Period 'max' is invalid, must be one of ['1d', '5d']\n",
      "ZPTAW: Period 'max' is invalid, must be one of ['1d', '5d']\n",
      "ZURAW: Period 'max' is invalid, must be one of ['1d', '5d']\n"
     ]
    },
    {
     "data": {
      "text/plain": [
       "[('TRIS', 0.8459400827994685),\n",
       " ('DECA', 0.8539999999999993),\n",
       " ('NVEI', 0.8573153888620794),\n",
       " ('SBBA', 0.8651400196656307),\n",
       " ('TME', 0.8704747394075828),\n",
       " ('NEWTL', 0.8804806528774317),\n",
       " ('RRAC', 0.8827393282106726),\n",
       " ('MCAA', 0.9091390681146115),\n",
       " ('APXI', 0.9238218547401222),\n",
       " ('STR', 0.9312000000000014)]"
      ]
     },
     "execution_count": 1,
     "metadata": {},
     "output_type": "execute_result"
    }
   ],
   "source": [
    "import warnings\n",
    "warnings.filterwarnings('ignore')\n",
    "import pandas as pd\n",
    "from sklearn.ensemble import RandomForestClassifier\n",
    "import yfinance as yf\n",
    "\n",
    "tickers = pd.read_csv('nasdaq_screener.csv')['Symbol'].values\n",
    "\n",
    "predictions = {}\n",
    "for i, ticker in enumerate(tickers):\n",
    "    try:\n",
    "        market = yf.Ticker(ticker).history(period='max')\n",
    "        market.index = pd.to_datetime(market.index)\n",
    "        market = market.drop([\"Dividends\", \"Stock Splits\"], axis=1)\n",
    "\n",
    "        horizons = [2, 8, 32, 128, 512]\n",
    "        predictors = []\n",
    "        for horizon in horizons:\n",
    "            rolling_averages = market.rolling(horizon).mean()\n",
    "            ratio_column = f\"Close_Ratio_{horizon}\"\n",
    "            market[ratio_column] = market[\"Close\"] / rolling_averages[\"Close\"]\n",
    "            trend_column = f\"Trend_{horizon}\"\n",
    "            market[trend_column] = market.shift(1).rolling(horizon).sum()[\"Close\"].pct_change()\n",
    "            predictors += [ratio_column, trend_column]\n",
    "\n",
    "        market = market.dropna()\n",
    "\n",
    "        market[\"Target\"] = market[\"Close\"].shift(-5) > market[\"Close\"]\n",
    "\n",
    "        model = RandomForestClassifier(n_estimators=250, min_samples_split=50, random_state=0)\n",
    "        model.fit(market[predictors][:-5], market[\"Target\"][:-5])\n",
    "\n",
    "        last_data = market[predictors].iloc[-1:]\n",
    "        prediction = model.predict_proba(last_data)[0, 1]\n",
    "\n",
    "        if i % 100 == 0:\n",
    "            print(f\"{i} out of {len(tickers)} complete\")\n",
    "        predictions[ticker] = prediction\n",
    "\n",
    "    except Exception as error:\n",
    "        continue\n",
    "\n",
    "sorted_preds = sorted(predictions.items(), key=lambda x:x[1])\n",
    "sorted_preds[-10:]"
   ]
  },
  {
   "cell_type": "code",
   "execution_count": null,
   "metadata": {},
   "outputs": [],
   "source": []
  }
 ],
 "metadata": {
  "kernelspec": {
   "display_name": "Python 3",
   "language": "python",
   "name": "python3"
  },
  "language_info": {
   "codemirror_mode": {
    "name": "ipython",
    "version": 3
   },
   "file_extension": ".py",
   "mimetype": "text/x-python",
   "name": "python",
   "nbconvert_exporter": "python",
   "pygments_lexer": "ipython3",
   "version": "3.10.0"
  }
 },
 "nbformat": 4,
 "nbformat_minor": 2
}
