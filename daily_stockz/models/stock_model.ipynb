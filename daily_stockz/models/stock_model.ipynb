{
 "cells": [
  {
   "cell_type": "code",
   "execution_count": null,
   "metadata": {},
   "outputs": [],
   "source": [
    "import warnings\n",
    "warnings.filterwarnings('ignore')\n",
    "import pandas as pd\n",
    "from sklearn.ensemble import RandomForestClassifier\n",
    "import yfinance as yf\n",
    "\n",
    "tickers = pd.read_csv('nasdaq_screener.csv')['Symbol'].values\n",
    "\n",
    "predictions = {}\n",
    "for i, ticker in enumerate(tickers):\n",
    "    try:\n",
    "        market = yf.Ticker(ticker).history(period='max')\n",
    "        market.index = pd.to_datetime(market.index)\n",
    "        market = market.drop([\"Dividends\", \"Stock Splits\"], axis=1)\n",
    "\n",
    "        horizons = [2, 8, 32, 128, 512]\n",
    "        predictors = []\n",
    "        for horizon in horizons:\n",
    "            rolling_averages = market.rolling(horizon).mean()\n",
    "            ratio_column = f\"Close_Ratio_{horizon}\"\n",
    "            market[ratio_column] = market[\"Close\"] / rolling_averages[\"Close\"]\n",
    "            trend_column = f\"Trend_{horizon}\"\n",
    "            market[trend_column] = market.shift(1).rolling(horizon).sum()[\"Close\"].pct_change()\n",
    "            predictors += [ratio_column, trend_column]\n",
    "\n",
    "        market = market.dropna()\n",
    "\n",
    "        market[\"Target\"] = market[\"Close\"].shift(-5) > market[\"Close\"]\n",
    "\n",
    "        model = RandomForestClassifier(n_estimators=250, min_samples_split=50, random_state=0)\n",
    "        model.fit(market[predictors][:-5], market[\"Target\"][:-5])\n",
    "\n",
    "        last_data = market[predictors].iloc[-1:]\n",
    "        prediction = model.predict_proba(last_data)[0, 1]\n",
    "\n",
    "        if i % 100 == 0:\n",
    "            print(f\"{i+1} out of {len(tickers)} complete\")\n",
    "        predictions[ticker] = prediction\n",
    "\n",
    "    except Exception as error:\n",
    "        continue\n",
    "\n",
    "sorted_preds = sorted(predictions.items(), key=lambda x:x[1])\n",
    "sorted_preds[-10:]"
   ]
  },
  {
   "cell_type": "code",
   "execution_count": null,
   "metadata": {},
   "outputs": [],
   "source": []
  }
 ],
 "metadata": {
  "kernelspec": {
   "display_name": "Python 3",
   "language": "python",
   "name": "python3"
  },
  "language_info": {
   "codemirror_mode": {
    "name": "ipython",
    "version": 3
   },
   "file_extension": ".py",
   "mimetype": "text/x-python",
   "name": "python",
   "nbconvert_exporter": "python",
   "pygments_lexer": "ipython3",
   "version": "3.10.0"
  }
 },
 "nbformat": 4,
 "nbformat_minor": 2
}
