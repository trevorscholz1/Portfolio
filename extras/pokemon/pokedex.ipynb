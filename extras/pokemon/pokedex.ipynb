{
 "cells": [
  {
   "cell_type": "code",
   "execution_count": 1,
   "metadata": {},
   "outputs": [
    {
     "name": "stdout",
     "output_type": "stream",
     "text": [
      "Appendix:Red and Blue walkthrough - Bulbapedia, the community-driven Pokémon encyclopedia\n"
     ]
    }
   ],
   "source": [
    "import warnings # type: ignore\n",
    "warnings.filterwarnings('ignore') # type: ignore\n",
    "from bs4 import BeautifulSoup # type: ignore\n",
    "import pandas as pd # type: ignore\n",
    "from playwright.async_api import async_playwright, TimeoutError as PlaywrightTimeout # type: ignore\n",
    "import time # type: ignore\n",
    "\n",
    "GAME = 'Red_and_Blue'\n",
    "AVAILABLE_POKEMON = []\n",
    "# LOCATIONS = pd.DataFrame()\n",
    "\n",
    "async def get_html(url, selector, sleep=5, retries=3):\n",
    "    html = None\n",
    "    for i in range(1, retries + 1):\n",
    "        time.sleep(sleep * i)\n",
    "        try:\n",
    "            async with async_playwright() as p:\n",
    "                browser = await p.webkit.launch()\n",
    "                page = await browser.new_page()\n",
    "                await page.goto(url)\n",
    "                print(await page.title())\n",
    "                html = await page.inner_html(selector)\n",
    "        except PlaywrightTimeout:\n",
    "            print(f\"Timeout error on {url}\")\n",
    "            continue\n",
    "        else:\n",
    "            break\n",
    "    return html\n",
    "\n",
    "def get_hrefs(html):\n",
    "    soup = BeautifulSoup(html, 'html.parser')\n",
    "    info_cards = soup.find_all('div', class_='infocard')\n",
    "    href_list = []\n",
    "    \n",
    "    for card in info_cards:\n",
    "        link = card.find('a', class_='ent-name')\n",
    "        if link and link.has_attr('href'):\n",
    "            href_list.append(link['href'])\n",
    "    \n",
    "    return href_list\n",
    "\n",
    "html = await get_html(f\"https://bulbapedia.bulbagarden.net/wiki/Appendix:{GAME}_walkthrough\", '#bodyContent')"
   ]
  },
  {
   "cell_type": "code",
   "execution_count": 2,
   "metadata": {},
   "outputs": [],
   "source": [
    "soup = BeautifulSoup(html)\n",
    "parts = soup.find('table', {'class':'roundy'})\n",
    "rows = parts.find_all('tr')\n",
    "hrefs = []\n",
    "for row in rows[1:]:\n",
    "    part = row.find_all('th')[0]\n",
    "    try:\n",
    "        link = part.find('a')\n",
    "        href = link.get('href')\n",
    "        hrefs.append(href)\n",
    "    except:\n",
    "        continue"
   ]
  },
  {
   "cell_type": "code",
   "execution_count": null,
   "metadata": {},
   "outputs": [
    {
     "name": "stdout",
     "output_type": "stream",
     "text": [
      "Appendix:Red and Blue walkthrough/Section 1 - Bulbapedia, the community-driven Pokémon encyclopedia\n",
      "Appendix:Red and Blue walkthrough/Section 2 - Bulbapedia, the community-driven Pokémon encyclopedia\n"
     ]
    }
   ],
   "source": [
    "for href in hrefs[:3]:\n",
    "    html = await get_html(f\"https://bulbapedia.bulbagarden.net{href}\", '.mw-parser-output')\n",
    "    soup = BeautifulSoup(html)\n",
    "    pokemon_tables = pd.read_html(str(soup), match='A colored background')\n",
    "    for table in pokemon_tables:\n",
    "        if len(table) > 0:\n",
    "            for pokemon in table['Pokémon']:\n",
    "                if str(pokemon) != 'nan' and not str(pokemon).startswith('A colored background'):\n",
    "                    AVAILABLE_POKEMON.append(pokemon)"
   ]
  },
  {
   "cell_type": "code",
   "execution_count": null,
   "metadata": {},
   "outputs": [],
   "source": [
    "set(AVAILABLE_POKEMON)"
   ]
  },
  {
   "cell_type": "code",
   "execution_count": null,
   "metadata": {},
   "outputs": [],
   "source": []
  }
 ],
 "metadata": {
  "kernelspec": {
   "display_name": "Python 3",
   "language": "python",
   "name": "python3"
  },
  "language_info": {
   "codemirror_mode": {
    "name": "ipython",
    "version": 3
   },
   "file_extension": ".py",
   "mimetype": "text/x-python",
   "name": "python",
   "nbconvert_exporter": "python",
   "pygments_lexer": "ipython3",
   "version": "3.12.4"
  }
 },
 "nbformat": 4,
 "nbformat_minor": 2
}
