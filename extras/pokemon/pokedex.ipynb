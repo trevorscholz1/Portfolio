{
 "cells": [
  {
   "cell_type": "code",
   "execution_count": 1,
   "metadata": {},
   "outputs": [
    {
     "name": "stdout",
     "output_type": "stream",
     "text": [
      "Walkthrough:Pokémon Red and Blue - Bulbapedia, the community-driven Pokémon encyclopedia\n",
      "Walkthrough:Pokémon Red and Blue/Part 1 - Bulbapedia, the community-driven Pokémon encyclopedia\n",
      "Walkthrough:Pokémon Red and Blue/Part 2 - Bulbapedia, the community-driven Pokémon encyclopedia\n",
      "Walkthrough:Pokémon Red and Blue/Part 3 - Bulbapedia, the community-driven Pokémon encyclopedia\n",
      "Walkthrough:Pokémon Red and Blue/Part 4 - Bulbapedia, the community-driven Pokémon encyclopedia\n",
      "Pokémon evolution charts | Pokémon Database\n",
      "{'Clefable', 'Raichu', 'Crobat', 'Venusaur', 'Butterfree', 'Parasect', 'Arbok', 'Sandslash', 'Wigglytuff', 'Nidoking', 'Golem', 'Beedrill', 'Pidgeot', 'Fearow', 'Nidoqueen', 'Raticate'}\n",
      "Generation 1 new Pokémon stats | Pokémon Database\n"
     ]
    },
    {
     "data": {
      "text/plain": [
       "['Venusaur',\n",
       " 'Nidoking',\n",
       " 'Nidoqueen',\n",
       " 'Golem',\n",
       " 'Raichu',\n",
       " 'Clefable',\n",
       " 'Pidgeot',\n",
       " 'Sandslash',\n",
       " 'Arbok',\n",
       " 'Fearow',\n",
       " 'Wigglytuff',\n",
       " 'Raticate',\n",
       " 'Parasect',\n",
       " 'Beedrill',\n",
       " 'Butterfree']"
      ]
     },
     "execution_count": 1,
     "metadata": {},
     "output_type": "execute_result"
    }
   ],
   "source": [
    "import warnings # type: ignore\n",
    "warnings.filterwarnings('ignore') # type: ignore\n",
    "from bs4 import BeautifulSoup # type: ignore\n",
    "import pandas as pd # type: ignore\n",
    "from playwright.async_api import async_playwright, TimeoutError as PlaywrightTimeout # type: ignore\n",
    "import time # type: ignore\n",
    "\n",
    "GAME = 'Red_and_Blue'\n",
    "STARTER = 'Bulbasaur'\n",
    "AVAILABLE_POKEMON = []\n",
    "\n",
    "async def get_html(url, selector, sleep=5, retries=3):\n",
    "    html = None\n",
    "    for i in range(1, retries + 1):\n",
    "        time.sleep(sleep * i)\n",
    "        try:\n",
    "            async with async_playwright() as p:\n",
    "                browser = await p.webkit.launch()\n",
    "                page = await browser.new_page()\n",
    "                await page.goto(url)\n",
    "                print(await page.title())\n",
    "                html = await page.inner_html(selector)\n",
    "        except PlaywrightTimeout:\n",
    "            print(f\"Timeout error on {url}\")\n",
    "            continue\n",
    "        else:\n",
    "            break\n",
    "    return html\n",
    "\n",
    "html = await get_html(f\"https://bulbapedia.bulbagarden.net/wiki/Appendix:{GAME}_walkthrough\", '#bodyContent')\n",
    "soup = BeautifulSoup(html)\n",
    "parts = soup.find('table', {'class':'roundy'})\n",
    "rows = parts.find_all('tr')\n",
    "hrefs = []\n",
    "for row in rows[1:]:\n",
    "    part = row.find_all('th')[0]\n",
    "    try:\n",
    "        link = part.find('a')\n",
    "        href = link.get('href')\n",
    "        hrefs.append(href)\n",
    "    except:\n",
    "        continue\n",
    "\n",
    "for href in hrefs[:4]:\n",
    "    html = await get_html(f\"https://bulbapedia.bulbagarden.net{href}\", '.mw-parser-output')\n",
    "    soup = BeautifulSoup(html)\n",
    "    pokemon_tables = pd.read_html(str(soup), match='A colored background')\n",
    "    for table in pokemon_tables:\n",
    "        if len(table) > 0:\n",
    "            for pokemon in table['Pokémon']:\n",
    "                if str(pokemon) != 'nan' and not str(pokemon).startswith('A colored background'):\n",
    "                    if str(pokemon) == 'First partner Pokémon':\n",
    "                        pokemon = STARTER\n",
    "                    if 'Pokémon' not in str(pokemon):\n",
    "                        AVAILABLE_POKEMON.append(pokemon)\n",
    "\n",
    "html = await get_html('https://pokemondb.net/evolution#evo-g1', '#main')\n",
    "soup = BeautifulSoup(html)\n",
    "rows = soup.find_all('div', {'class':'infocard-filter-block'})\n",
    "EVO_CHART = {}\n",
    "for row in rows:\n",
    "    names = row.find_all('a', {'class':'ent-name'})\n",
    "    base = names[0].text.strip()\n",
    "    for i, name in enumerate(names):\n",
    "        if i == 0:\n",
    "            EVO_CHART[base] = []\n",
    "        else:\n",
    "            EVO_CHART[base].append(name.text.strip())\n",
    "\n",
    "for i in range(len(AVAILABLE_POKEMON)):\n",
    "    found = False\n",
    "    for base, evolutions in EVO_CHART.items():\n",
    "        if AVAILABLE_POKEMON[i] == base or AVAILABLE_POKEMON[i] in evolutions:\n",
    "            AVAILABLE_POKEMON[i] = evolutions[-1]\n",
    "            found = True\n",
    "    if not found:\n",
    "        print(f\"{AVAILABLE_POKEMON[i]} DOES NOT EVOLVE\")\n",
    "\n",
    "print(set(AVAILABLE_POKEMON))\n",
    "\n",
    "html = await get_html('https://pokemondb.net/pokedex/stats/gen1', '#main')\n",
    "soup = BeautifulSoup(html)\n",
    "stats_table = pd.read_html(str(soup), attrs={'id':'pokedex'})[0].sort_values(by='Total', ascending=False, ignore_index=True)\n",
    "\n",
    "TEAM = []\n",
    "for index, row in stats_table.iterrows():\n",
    "    if row['Name'] in AVAILABLE_POKEMON:\n",
    "        TEAM.append(row['Name'])\n",
    "TEAM"
   ]
  },
  {
   "cell_type": "code",
   "execution_count": 2,
   "metadata": {},
   "outputs": [
    {
     "data": {
      "text/plain": [
       "15"
      ]
     },
     "execution_count": 2,
     "metadata": {},
     "output_type": "execute_result"
    }
   ],
   "source": [
    "len(TEAM)"
   ]
  },
  {
   "cell_type": "code",
   "execution_count": 3,
   "metadata": {},
   "outputs": [
    {
     "data": {
      "text/plain": [
       "16"
      ]
     },
     "execution_count": 3,
     "metadata": {},
     "output_type": "execute_result"
    }
   ],
   "source": [
    "len(set(AVAILABLE_POKEMON))"
   ]
  },
  {
   "cell_type": "code",
   "execution_count": 5,
   "metadata": {},
   "outputs": [
    {
     "data": {
      "text/plain": [
       "['Venusaur', 'Nidoking', 'Nidoqueen', 'Golem', 'Raichu', 'Clefable']"
      ]
     },
     "execution_count": 5,
     "metadata": {},
     "output_type": "execute_result"
    }
   ],
   "source": [
    "TEAM[:6]"
   ]
  },
  {
   "cell_type": "code",
   "execution_count": null,
   "metadata": {},
   "outputs": [],
   "source": []
  }
 ],
 "metadata": {
  "kernelspec": {
   "display_name": "Python 3",
   "language": "python",
   "name": "python3"
  },
  "language_info": {
   "codemirror_mode": {
    "name": "ipython",
    "version": 3
   },
   "file_extension": ".py",
   "mimetype": "text/x-python",
   "name": "python",
   "nbconvert_exporter": "python",
   "pygments_lexer": "ipython3",
   "version": "3.12.4"
  }
 },
 "nbformat": 4,
 "nbformat_minor": 2
}
