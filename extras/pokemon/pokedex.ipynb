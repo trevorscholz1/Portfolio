{
 "cells": [
  {
   "cell_type": "code",
   "execution_count": null,
   "metadata": {},
   "outputs": [],
   "source": [
    "import warnings # type: ignore\n",
    "warnings.filterwarnings('ignore') # type: ignore\n",
    "from bs4 import BeautifulSoup # type: ignore\n",
    "import pandas as pd # type: ignore\n",
    "from playwright.async_api import async_playwright, TimeoutError as PlaywrightTimeout # type: ignore\n",
    "import time # type: ignore\n",
    "\n",
    "GAME = 'black-white'\n",
    "LOCATIONS = pd.DataFrame()\n",
    "\n",
    "async def get_html(url, selector, sleep=5, retries=3):\n",
    "    html = None\n",
    "    for i in range(1, retries + 1):\n",
    "        time.sleep(sleep * i)\n",
    "        try:\n",
    "            async with async_playwright() as p:\n",
    "                browser = await p.webkit.launch()\n",
    "                page = await browser.new_page()\n",
    "                await page.goto(url)\n",
    "                print(await page.title())\n",
    "                html = await page.inner_html(selector)\n",
    "        except PlaywrightTimeout:\n",
    "            print(f\"Timeout error on {url}\")\n",
    "            continue\n",
    "        else:\n",
    "            break\n",
    "    return html\n",
    "\n",
    "def get_hrefs(html):\n",
    "    soup = BeautifulSoup(html, 'html.parser')\n",
    "    info_cards = soup.find_all('div', class_='infocard')\n",
    "    href_list = []\n",
    "    \n",
    "    for card in info_cards:\n",
    "        link = card.find('a', class_='ent-name')\n",
    "        if link and link.has_attr('href'):\n",
    "            href_list.append(link['href'])\n",
    "    \n",
    "    return href_list\n",
    "\n",
    "html = await get_html('https://pokemondb.net/pokedex/game/black-white', '#main')\n",
    "hrefs = get_hrefs(html)\n",
    "\n",
    "for href in hrefs:\n",
    "    html = await get_html(f\"https://pokemondb.net{href}\", '#main')\n",
    "    soup = BeautifulSoup(html)\n",
    "    location = pd.read_html(str(soup), attrs={'class' : 'vitals-table'})[5]\n",
    "    game_row = location['Black White' in location[0]]\n",
    "    game_row['pokemon'] = href.split('/')[-1]\n",
    "    LOCATIONS = pd.concat([LOCATIONS, game_row], ignore_index=True)\n",
    "\n",
    "pd.set_option('display.max_rows', 1000)\n",
    "LOCATIONS"
   ]
  },
  {
   "cell_type": "code",
   "execution_count": null,
   "metadata": {},
   "outputs": [],
   "source": []
  }
 ],
 "metadata": {
  "kernelspec": {
   "display_name": "Python 3",
   "language": "python",
   "name": "python3"
  },
  "language_info": {
   "codemirror_mode": {
    "name": "ipython",
    "version": 3
   },
   "file_extension": ".py",
   "mimetype": "text/x-python",
   "name": "python",
   "nbconvert_exporter": "python",
   "pygments_lexer": "ipython3",
   "version": "3.12.4"
  }
 },
 "nbformat": 4,
 "nbformat_minor": 2
}
