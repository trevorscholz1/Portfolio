{
 "cells": [
  {
   "cell_type": "code",
   "execution_count": 1,
   "metadata": {},
   "outputs": [
    {
     "name": "stdout",
     "output_type": "stream",
     "text": [
      "Appendix:Red and Blue walkthrough - Bulbapedia, the community-driven Pokémon encyclopedia\n"
     ]
    }
   ],
   "source": [
    "import warnings # type: ignore\n",
    "warnings.filterwarnings('ignore') # type: ignore\n",
    "from bs4 import BeautifulSoup # type: ignore\n",
    "import pandas as pd # type: ignore\n",
    "from playwright.async_api import async_playwright, TimeoutError as PlaywrightTimeout # type: ignore\n",
    "import time # type: ignore\n",
    "\n",
    "GAME = 'Red_and_Blue'\n",
    "STARTER = 'bulbasaur'\n",
    "AVAILABLE_POKEMON = []\n",
    "\n",
    "async def get_html(url, selector, sleep=5, retries=3):\n",
    "    html = None\n",
    "    for i in range(1, retries + 1):\n",
    "        time.sleep(sleep * i)\n",
    "        try:\n",
    "            async with async_playwright() as p:\n",
    "                browser = await p.webkit.launch()\n",
    "                page = await browser.new_page()\n",
    "                await page.goto(url)\n",
    "                print(await page.title())\n",
    "                html = await page.inner_html(selector)\n",
    "        except PlaywrightTimeout:\n",
    "            print(f\"Timeout error on {url}\")\n",
    "            continue\n",
    "        else:\n",
    "            break\n",
    "    return html\n",
    "\n",
    "def get_hrefs(html):\n",
    "    soup = BeautifulSoup(html, 'html.parser')\n",
    "    info_cards = soup.find_all('div', class_='infocard')\n",
    "    href_list = []\n",
    "    for card in info_cards:\n",
    "        link = card.find('a', class_='ent-name')\n",
    "        if link and link.has_attr('href'):\n",
    "            href_list.append(link['href'])\n",
    "    return href_list\n",
    "\n",
    "html = await get_html(f\"https://bulbapedia.bulbagarden.net/wiki/Appendix:{GAME}_walkthrough\", '#bodyContent')"
   ]
  },
  {
   "cell_type": "code",
   "execution_count": 2,
   "metadata": {},
   "outputs": [],
   "source": [
    "soup = BeautifulSoup(html)\n",
    "parts = soup.find('table', {'class':'roundy'})\n",
    "rows = parts.find_all('tr')\n",
    "hrefs = []\n",
    "for row in rows[1:]:\n",
    "    part = row.find_all('th')[0]\n",
    "    try:\n",
    "        link = part.find('a')\n",
    "        href = link.get('href')\n",
    "        hrefs.append(href)\n",
    "    except:\n",
    "        continue"
   ]
  },
  {
   "cell_type": "code",
   "execution_count": 3,
   "metadata": {},
   "outputs": [
    {
     "name": "stdout",
     "output_type": "stream",
     "text": [
      "Appendix:Red and Blue walkthrough/Section 1 - Bulbapedia, the community-driven Pokémon encyclopedia\n",
      "Appendix:Red and Blue walkthrough/Section 2 - Bulbapedia, the community-driven Pokémon encyclopedia\n",
      "Appendix:Red and Blue walkthrough/Section 3 - Bulbapedia, the community-driven Pokémon encyclopedia\n",
      "Appendix:Red and Blue walkthrough/Section 4 - Bulbapedia, the community-driven Pokémon encyclopedia\n",
      "Appendix:Red and Blue walkthrough/Section 5 - Bulbapedia, the community-driven Pokémon encyclopedia\n"
     ]
    }
   ],
   "source": [
    "for href in hrefs[:5]:\n",
    "    html = await get_html(f\"https://bulbapedia.bulbagarden.net{href}\", '.mw-parser-output')\n",
    "    soup = BeautifulSoup(html)\n",
    "    pokemon_tables = pd.read_html(str(soup), match='A colored background')\n",
    "    for table in pokemon_tables:\n",
    "        if len(table) > 0:\n",
    "            for pokemon in table['Pokémon']:\n",
    "                if str(pokemon) != 'nan' and not str(pokemon).startswith('A colored background'):\n",
    "                    if str(pokemon) == 'First partner Pokémon':\n",
    "                        pokemon = STARTER\n",
    "                    AVAILABLE_POKEMON.append(pokemon)"
   ]
  },
  {
   "cell_type": "code",
   "execution_count": 4,
   "metadata": {},
   "outputs": [
    {
     "data": {
      "text/plain": [
       "{'Abra',\n",
       " 'Bellsprout',\n",
       " 'Bulbasaur',\n",
       " 'Caterpie',\n",
       " 'Clefairy',\n",
       " 'Ekans',\n",
       " 'Geodude',\n",
       " 'Gift Pokémon',\n",
       " 'Jigglypuff',\n",
       " 'Kakuna',\n",
       " 'Mankey',\n",
       " 'Meowth',\n",
       " 'Metapod',\n",
       " 'Nidoran♀',\n",
       " 'Nidoran♂',\n",
       " 'Oddish',\n",
       " 'Paras',\n",
       " 'Pidgey',\n",
       " 'Pikachu',\n",
       " 'Rattata',\n",
       " 'Sandshrew',\n",
       " 'Spearow',\n",
       " 'Special Pokémon',\n",
       " 'Weedle',\n",
       " 'Zubat'}"
      ]
     },
     "execution_count": 4,
     "metadata": {},
     "output_type": "execute_result"
    }
   ],
   "source": [
    "set(AVAILABLE_POKEMON)"
   ]
  },
  {
   "cell_type": "code",
   "execution_count": 5,
   "metadata": {},
   "outputs": [
    {
     "name": "stdout",
     "output_type": "stream",
     "text": [
      "Generation 1 new Pokémon stats | Pokémon Database\n"
     ]
    }
   ],
   "source": [
    "html = await get_html('https://pokemondb.net/pokedex/stats/gen1', '#main')\n",
    "soup = BeautifulSoup(html)"
   ]
  },
  {
   "cell_type": "code",
   "execution_count": 6,
   "metadata": {},
   "outputs": [],
   "source": [
    "stats_table = pd.read_html(str(soup), attrs={'id':'pokedex'})[0]"
   ]
  },
  {
   "cell_type": "code",
   "execution_count": 12,
   "metadata": {},
   "outputs": [],
   "source": [
    "stats_table = stats_table.sort_values(by='Total', ascending=False, ignore_index=True)"
   ]
  },
  {
   "cell_type": "code",
   "execution_count": 13,
   "metadata": {},
   "outputs": [
    {
     "data": {
      "text/html": [
       "<div>\n",
       "<style scoped>\n",
       "    .dataframe tbody tr th:only-of-type {\n",
       "        vertical-align: middle;\n",
       "    }\n",
       "\n",
       "    .dataframe tbody tr th {\n",
       "        vertical-align: top;\n",
       "    }\n",
       "\n",
       "    .dataframe thead th {\n",
       "        text-align: right;\n",
       "    }\n",
       "</style>\n",
       "<table border=\"1\" class=\"dataframe\">\n",
       "  <thead>\n",
       "    <tr style=\"text-align: right;\">\n",
       "      <th></th>\n",
       "      <th>#</th>\n",
       "      <th>Name</th>\n",
       "      <th>Type</th>\n",
       "      <th>Total</th>\n",
       "      <th>HP</th>\n",
       "      <th>Attack</th>\n",
       "      <th>Defense</th>\n",
       "      <th>Sp. Atk</th>\n",
       "      <th>Sp. Def</th>\n",
       "      <th>Speed</th>\n",
       "    </tr>\n",
       "  </thead>\n",
       "  <tbody>\n",
       "    <tr>\n",
       "      <th>0</th>\n",
       "      <td>150</td>\n",
       "      <td>Mewtwo</td>\n",
       "      <td>Psychic</td>\n",
       "      <td>680</td>\n",
       "      <td>106</td>\n",
       "      <td>110</td>\n",
       "      <td>90</td>\n",
       "      <td>154</td>\n",
       "      <td>90</td>\n",
       "      <td>130</td>\n",
       "    </tr>\n",
       "    <tr>\n",
       "      <th>1</th>\n",
       "      <td>151</td>\n",
       "      <td>Mew</td>\n",
       "      <td>Psychic</td>\n",
       "      <td>600</td>\n",
       "      <td>100</td>\n",
       "      <td>100</td>\n",
       "      <td>100</td>\n",
       "      <td>100</td>\n",
       "      <td>100</td>\n",
       "      <td>100</td>\n",
       "    </tr>\n",
       "    <tr>\n",
       "      <th>2</th>\n",
       "      <td>149</td>\n",
       "      <td>Dragonite</td>\n",
       "      <td>Dragon  Flying</td>\n",
       "      <td>600</td>\n",
       "      <td>91</td>\n",
       "      <td>134</td>\n",
       "      <td>95</td>\n",
       "      <td>100</td>\n",
       "      <td>100</td>\n",
       "      <td>80</td>\n",
       "    </tr>\n",
       "    <tr>\n",
       "      <th>3</th>\n",
       "      <td>144</td>\n",
       "      <td>Articuno</td>\n",
       "      <td>Ice  Flying</td>\n",
       "      <td>580</td>\n",
       "      <td>90</td>\n",
       "      <td>85</td>\n",
       "      <td>100</td>\n",
       "      <td>95</td>\n",
       "      <td>125</td>\n",
       "      <td>85</td>\n",
       "    </tr>\n",
       "    <tr>\n",
       "      <th>4</th>\n",
       "      <td>146</td>\n",
       "      <td>Moltres</td>\n",
       "      <td>Fire  Flying</td>\n",
       "      <td>580</td>\n",
       "      <td>90</td>\n",
       "      <td>100</td>\n",
       "      <td>90</td>\n",
       "      <td>125</td>\n",
       "      <td>85</td>\n",
       "      <td>90</td>\n",
       "    </tr>\n",
       "    <tr>\n",
       "      <th>...</th>\n",
       "      <td>...</td>\n",
       "      <td>...</td>\n",
       "      <td>...</td>\n",
       "      <td>...</td>\n",
       "      <td>...</td>\n",
       "      <td>...</td>\n",
       "      <td>...</td>\n",
       "      <td>...</td>\n",
       "      <td>...</td>\n",
       "      <td>...</td>\n",
       "    </tr>\n",
       "    <tr>\n",
       "      <th>146</th>\n",
       "      <td>14</td>\n",
       "      <td>Kakuna</td>\n",
       "      <td>Bug  Poison</td>\n",
       "      <td>205</td>\n",
       "      <td>45</td>\n",
       "      <td>25</td>\n",
       "      <td>50</td>\n",
       "      <td>25</td>\n",
       "      <td>25</td>\n",
       "      <td>35</td>\n",
       "    </tr>\n",
       "    <tr>\n",
       "      <th>147</th>\n",
       "      <td>11</td>\n",
       "      <td>Metapod</td>\n",
       "      <td>Bug</td>\n",
       "      <td>205</td>\n",
       "      <td>50</td>\n",
       "      <td>20</td>\n",
       "      <td>55</td>\n",
       "      <td>25</td>\n",
       "      <td>25</td>\n",
       "      <td>30</td>\n",
       "    </tr>\n",
       "    <tr>\n",
       "      <th>148</th>\n",
       "      <td>129</td>\n",
       "      <td>Magikarp</td>\n",
       "      <td>Water</td>\n",
       "      <td>200</td>\n",
       "      <td>20</td>\n",
       "      <td>10</td>\n",
       "      <td>55</td>\n",
       "      <td>15</td>\n",
       "      <td>20</td>\n",
       "      <td>80</td>\n",
       "    </tr>\n",
       "    <tr>\n",
       "      <th>149</th>\n",
       "      <td>10</td>\n",
       "      <td>Caterpie</td>\n",
       "      <td>Bug</td>\n",
       "      <td>195</td>\n",
       "      <td>45</td>\n",
       "      <td>30</td>\n",
       "      <td>35</td>\n",
       "      <td>20</td>\n",
       "      <td>20</td>\n",
       "      <td>45</td>\n",
       "    </tr>\n",
       "    <tr>\n",
       "      <th>150</th>\n",
       "      <td>13</td>\n",
       "      <td>Weedle</td>\n",
       "      <td>Bug  Poison</td>\n",
       "      <td>195</td>\n",
       "      <td>40</td>\n",
       "      <td>35</td>\n",
       "      <td>30</td>\n",
       "      <td>20</td>\n",
       "      <td>20</td>\n",
       "      <td>50</td>\n",
       "    </tr>\n",
       "  </tbody>\n",
       "</table>\n",
       "<p>151 rows × 10 columns</p>\n",
       "</div>"
      ],
      "text/plain": [
       "       #       Name            Type  Total   HP  Attack  Defense  Sp. Atk  \\\n",
       "0    150     Mewtwo         Psychic    680  106     110       90      154   \n",
       "1    151        Mew         Psychic    600  100     100      100      100   \n",
       "2    149  Dragonite  Dragon  Flying    600   91     134       95      100   \n",
       "3    144   Articuno     Ice  Flying    580   90      85      100       95   \n",
       "4    146    Moltres    Fire  Flying    580   90     100       90      125   \n",
       "..   ...        ...             ...    ...  ...     ...      ...      ...   \n",
       "146   14     Kakuna     Bug  Poison    205   45      25       50       25   \n",
       "147   11    Metapod             Bug    205   50      20       55       25   \n",
       "148  129   Magikarp           Water    200   20      10       55       15   \n",
       "149   10   Caterpie             Bug    195   45      30       35       20   \n",
       "150   13     Weedle     Bug  Poison    195   40      35       30       20   \n",
       "\n",
       "     Sp. Def  Speed  \n",
       "0         90    130  \n",
       "1        100    100  \n",
       "2        100     80  \n",
       "3        125     85  \n",
       "4         85     90  \n",
       "..       ...    ...  \n",
       "146       25     35  \n",
       "147       25     30  \n",
       "148       20     80  \n",
       "149       20     45  \n",
       "150       20     50  \n",
       "\n",
       "[151 rows x 10 columns]"
      ]
     },
     "execution_count": 13,
     "metadata": {},
     "output_type": "execute_result"
    }
   ],
   "source": [
    "stats_table"
   ]
  },
  {
   "cell_type": "code",
   "execution_count": 14,
   "metadata": {},
   "outputs": [],
   "source": [
    "TEAM = []"
   ]
  },
  {
   "cell_type": "code",
   "execution_count": 15,
   "metadata": {},
   "outputs": [],
   "source": [
    "for index, row in stats_table.iterrows():\n",
    "    if row['Name'] in AVAILABLE_POKEMON:\n",
    "        TEAM.append(row['Name'])"
   ]
  },
  {
   "cell_type": "code",
   "execution_count": 16,
   "metadata": {},
   "outputs": [
    {
     "data": {
      "text/plain": [
       "['Clefairy',\n",
       " 'Pikachu',\n",
       " 'Oddish',\n",
       " 'Bulbasaur',\n",
       " 'Abra',\n",
       " 'Mankey',\n",
       " 'Sandshrew',\n",
       " 'Geodude',\n",
       " 'Bellsprout',\n",
       " 'Meowth',\n",
       " 'Ekans',\n",
       " 'Paras',\n",
       " 'Nidoran♀',\n",
       " 'Nidoran♂',\n",
       " 'Jigglypuff',\n",
       " 'Spearow',\n",
       " 'Rattata',\n",
       " 'Pidgey',\n",
       " 'Zubat',\n",
       " 'Kakuna',\n",
       " 'Metapod',\n",
       " 'Caterpie',\n",
       " 'Weedle']"
      ]
     },
     "execution_count": 16,
     "metadata": {},
     "output_type": "execute_result"
    }
   ],
   "source": [
    "TEAM"
   ]
  },
  {
   "cell_type": "code",
   "execution_count": null,
   "metadata": {},
   "outputs": [],
   "source": []
  }
 ],
 "metadata": {
  "kernelspec": {
   "display_name": "Python 3",
   "language": "python",
   "name": "python3"
  },
  "language_info": {
   "codemirror_mode": {
    "name": "ipython",
    "version": 3
   },
   "file_extension": ".py",
   "mimetype": "text/x-python",
   "name": "python",
   "nbconvert_exporter": "python",
   "pygments_lexer": "ipython3",
   "version": "3.12.4"
  }
 },
 "nbformat": 4,
 "nbformat_minor": 2
}
