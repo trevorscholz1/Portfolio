{
 "cells": [
  {
   "cell_type": "code",
   "execution_count": null,
   "metadata": {},
   "outputs": [],
   "source": [
    "import warnings # type: ignore\n",
    "warnings.filterwarnings('ignore') # type: ignore\n",
    "from bs4 import BeautifulSoup # type: ignore\n",
    "import pandas as pd # type: ignore\n",
    "from playwright.async_api import async_playwright, TimeoutError as PlaywrightTimeout # type: ignore\n",
    "import time # type: ignore\n",
    "\n",
    "GAME = 'Red_and_Blue'\n",
    "STARTER = 'Bulbasaur'\n",
    "AVAILABLE_POKEMON = []\n",
    "\n",
    "async def get_html(url, selector, sleep=5, retries=3):\n",
    "    html = None\n",
    "    for i in range(1, retries + 1):\n",
    "        time.sleep(sleep * i)\n",
    "        try:\n",
    "            async with async_playwright() as p:\n",
    "                browser = await p.webkit.launch()\n",
    "                page = await browser.new_page()\n",
    "                await page.goto(url)\n",
    "                print(await page.title())\n",
    "                html = await page.inner_html(selector)\n",
    "        except PlaywrightTimeout:\n",
    "            print(f\"Timeout error on {url}\")\n",
    "            continue\n",
    "        else:\n",
    "            break\n",
    "    return html\n",
    "\n",
    "def get_hrefs(html):\n",
    "    soup = BeautifulSoup(html, 'html.parser')\n",
    "    info_cards = soup.find_all('div', class_='infocard')\n",
    "    href_list = []\n",
    "    for card in info_cards:\n",
    "        link = card.find('a', class_='ent-name')\n",
    "        if link and link.has_attr('href'):\n",
    "            href_list.append(link['href'])\n",
    "    return href_list\n",
    "\n",
    "html = await get_html(f\"https://bulbapedia.bulbagarden.net/wiki/Appendix:{GAME}_walkthrough\", '#bodyContent')"
   ]
  },
  {
   "cell_type": "code",
   "execution_count": 2,
   "metadata": {},
   "outputs": [],
   "source": [
    "soup = BeautifulSoup(html)\n",
    "parts = soup.find('table', {'class':'roundy'})\n",
    "rows = parts.find_all('tr')\n",
    "hrefs = []\n",
    "for row in rows[1:]:\n",
    "    part = row.find_all('th')[0]\n",
    "    try:\n",
    "        link = part.find('a')\n",
    "        href = link.get('href')\n",
    "        hrefs.append(href)\n",
    "    except:\n",
    "        continue"
   ]
  },
  {
   "cell_type": "code",
   "execution_count": null,
   "metadata": {},
   "outputs": [],
   "source": [
    "for href in hrefs[:5]:\n",
    "    html = await get_html(f\"https://bulbapedia.bulbagarden.net{href}\", '.mw-parser-output')\n",
    "    soup = BeautifulSoup(html)\n",
    "    pokemon_tables = pd.read_html(str(soup), match='A colored background')\n",
    "    for table in pokemon_tables:\n",
    "        if len(table) > 0:\n",
    "            for pokemon in table['Pokémon']:\n",
    "                if str(pokemon) != 'nan' and not str(pokemon).startswith('A colored background'):\n",
    "                    if str(pokemon) == 'First partner Pokémon':\n",
    "                        pokemon = STARTER\n",
    "                    if 'Pokémon' not in str(pokemon):\n",
    "                        AVAILABLE_POKEMON.append(pokemon)"
   ]
  },
  {
   "cell_type": "code",
   "execution_count": null,
   "metadata": {},
   "outputs": [],
   "source": [
    "set(AVAILABLE_POKEMON)"
   ]
  },
  {
   "cell_type": "code",
   "execution_count": null,
   "metadata": {},
   "outputs": [],
   "source": [
    "html = await get_html('https://pokemondb.net/pokedex/stats/gen1', '#main')\n",
    "soup = BeautifulSoup(html)"
   ]
  },
  {
   "cell_type": "code",
   "execution_count": 6,
   "metadata": {},
   "outputs": [],
   "source": [
    "stats_table = pd.read_html(str(soup), attrs={'id':'pokedex'})[0]"
   ]
  },
  {
   "cell_type": "code",
   "execution_count": 7,
   "metadata": {},
   "outputs": [],
   "source": [
    "stats_table = stats_table.sort_values(by='Total', ascending=False, ignore_index=True)"
   ]
  },
  {
   "cell_type": "code",
   "execution_count": null,
   "metadata": {},
   "outputs": [],
   "source": [
    "stats_table"
   ]
  },
  {
   "cell_type": "code",
   "execution_count": 9,
   "metadata": {},
   "outputs": [],
   "source": [
    "TEAM = []"
   ]
  },
  {
   "cell_type": "code",
   "execution_count": 10,
   "metadata": {},
   "outputs": [],
   "source": [
    "for index, row in stats_table.iterrows():\n",
    "    if row['Name'] in AVAILABLE_POKEMON:\n",
    "        TEAM.append(row['Name'])"
   ]
  },
  {
   "cell_type": "code",
   "execution_count": null,
   "metadata": {},
   "outputs": [],
   "source": [
    "TEAM"
   ]
  },
  {
   "cell_type": "code",
   "execution_count": null,
   "metadata": {},
   "outputs": [],
   "source": [
    "len(set(AVAILABLE_POKEMON))"
   ]
  },
  {
   "cell_type": "code",
   "execution_count": null,
   "metadata": {},
   "outputs": [],
   "source": [
    "len(TEAM)"
   ]
  },
  {
   "cell_type": "code",
   "execution_count": null,
   "metadata": {},
   "outputs": [],
   "source": [
    "set(AVAILABLE_POKEMON) - set(TEAM)"
   ]
  },
  {
   "cell_type": "code",
   "execution_count": 26,
   "metadata": {},
   "outputs": [],
   "source": [
    "table = soup.find('table', {'id':'pokedex'}).find('tbody')\n",
    "rows = table.find_all('tr')\n",
    "name_hrefs = []\n",
    "for row in rows:\n",
    "    name_hrefs.append(row.find('a', {'class':'ent-name'}).get('href'))"
   ]
  },
  {
   "cell_type": "code",
   "execution_count": 27,
   "metadata": {},
   "outputs": [
    {
     "data": {
      "text/plain": [
       "['/pokedex/bulbasaur',\n",
       " '/pokedex/ivysaur',\n",
       " '/pokedex/venusaur',\n",
       " '/pokedex/charmander',\n",
       " '/pokedex/charmeleon',\n",
       " '/pokedex/charizard',\n",
       " '/pokedex/squirtle',\n",
       " '/pokedex/wartortle',\n",
       " '/pokedex/blastoise',\n",
       " '/pokedex/caterpie',\n",
       " '/pokedex/metapod',\n",
       " '/pokedex/butterfree',\n",
       " '/pokedex/weedle',\n",
       " '/pokedex/kakuna',\n",
       " '/pokedex/beedrill',\n",
       " '/pokedex/pidgey',\n",
       " '/pokedex/pidgeotto',\n",
       " '/pokedex/pidgeot',\n",
       " '/pokedex/rattata',\n",
       " '/pokedex/raticate',\n",
       " '/pokedex/spearow',\n",
       " '/pokedex/fearow',\n",
       " '/pokedex/ekans',\n",
       " '/pokedex/arbok',\n",
       " '/pokedex/pikachu',\n",
       " '/pokedex/raichu',\n",
       " '/pokedex/sandshrew',\n",
       " '/pokedex/sandslash',\n",
       " '/pokedex/nidoran-f',\n",
       " '/pokedex/nidorina',\n",
       " '/pokedex/nidoqueen',\n",
       " '/pokedex/nidoran-m',\n",
       " '/pokedex/nidorino',\n",
       " '/pokedex/nidoking',\n",
       " '/pokedex/clefairy',\n",
       " '/pokedex/clefable',\n",
       " '/pokedex/vulpix',\n",
       " '/pokedex/ninetales',\n",
       " '/pokedex/jigglypuff',\n",
       " '/pokedex/wigglytuff',\n",
       " '/pokedex/zubat',\n",
       " '/pokedex/golbat',\n",
       " '/pokedex/oddish',\n",
       " '/pokedex/gloom',\n",
       " '/pokedex/vileplume',\n",
       " '/pokedex/paras',\n",
       " '/pokedex/parasect',\n",
       " '/pokedex/venonat',\n",
       " '/pokedex/venomoth',\n",
       " '/pokedex/diglett',\n",
       " '/pokedex/dugtrio',\n",
       " '/pokedex/meowth',\n",
       " '/pokedex/persian',\n",
       " '/pokedex/psyduck',\n",
       " '/pokedex/golduck',\n",
       " '/pokedex/mankey',\n",
       " '/pokedex/primeape',\n",
       " '/pokedex/growlithe',\n",
       " '/pokedex/arcanine',\n",
       " '/pokedex/poliwag',\n",
       " '/pokedex/poliwhirl',\n",
       " '/pokedex/poliwrath',\n",
       " '/pokedex/abra',\n",
       " '/pokedex/kadabra',\n",
       " '/pokedex/alakazam',\n",
       " '/pokedex/machop',\n",
       " '/pokedex/machoke',\n",
       " '/pokedex/machamp',\n",
       " '/pokedex/bellsprout',\n",
       " '/pokedex/weepinbell',\n",
       " '/pokedex/victreebel',\n",
       " '/pokedex/tentacool',\n",
       " '/pokedex/tentacruel',\n",
       " '/pokedex/geodude',\n",
       " '/pokedex/graveler',\n",
       " '/pokedex/golem',\n",
       " '/pokedex/ponyta',\n",
       " '/pokedex/rapidash',\n",
       " '/pokedex/slowpoke',\n",
       " '/pokedex/slowbro',\n",
       " '/pokedex/magnemite',\n",
       " '/pokedex/magneton',\n",
       " '/pokedex/farfetchd',\n",
       " '/pokedex/doduo',\n",
       " '/pokedex/dodrio',\n",
       " '/pokedex/seel',\n",
       " '/pokedex/dewgong',\n",
       " '/pokedex/grimer',\n",
       " '/pokedex/muk',\n",
       " '/pokedex/shellder',\n",
       " '/pokedex/cloyster',\n",
       " '/pokedex/gastly',\n",
       " '/pokedex/haunter',\n",
       " '/pokedex/gengar',\n",
       " '/pokedex/onix',\n",
       " '/pokedex/drowzee',\n",
       " '/pokedex/hypno',\n",
       " '/pokedex/krabby',\n",
       " '/pokedex/kingler',\n",
       " '/pokedex/voltorb',\n",
       " '/pokedex/electrode',\n",
       " '/pokedex/exeggcute',\n",
       " '/pokedex/exeggutor',\n",
       " '/pokedex/cubone',\n",
       " '/pokedex/marowak',\n",
       " '/pokedex/hitmonlee',\n",
       " '/pokedex/hitmonchan',\n",
       " '/pokedex/lickitung',\n",
       " '/pokedex/koffing',\n",
       " '/pokedex/weezing',\n",
       " '/pokedex/rhyhorn',\n",
       " '/pokedex/rhydon',\n",
       " '/pokedex/chansey',\n",
       " '/pokedex/tangela',\n",
       " '/pokedex/kangaskhan',\n",
       " '/pokedex/horsea',\n",
       " '/pokedex/seadra',\n",
       " '/pokedex/goldeen',\n",
       " '/pokedex/seaking',\n",
       " '/pokedex/staryu',\n",
       " '/pokedex/starmie',\n",
       " '/pokedex/mr-mime',\n",
       " '/pokedex/scyther',\n",
       " '/pokedex/jynx',\n",
       " '/pokedex/electabuzz',\n",
       " '/pokedex/magmar',\n",
       " '/pokedex/pinsir',\n",
       " '/pokedex/tauros',\n",
       " '/pokedex/magikarp',\n",
       " '/pokedex/gyarados',\n",
       " '/pokedex/lapras',\n",
       " '/pokedex/ditto',\n",
       " '/pokedex/eevee',\n",
       " '/pokedex/vaporeon',\n",
       " '/pokedex/jolteon',\n",
       " '/pokedex/flareon',\n",
       " '/pokedex/porygon',\n",
       " '/pokedex/omanyte',\n",
       " '/pokedex/omastar',\n",
       " '/pokedex/kabuto',\n",
       " '/pokedex/kabutops',\n",
       " '/pokedex/aerodactyl',\n",
       " '/pokedex/snorlax',\n",
       " '/pokedex/articuno',\n",
       " '/pokedex/zapdos',\n",
       " '/pokedex/moltres',\n",
       " '/pokedex/dratini',\n",
       " '/pokedex/dragonair',\n",
       " '/pokedex/dragonite',\n",
       " '/pokedex/mewtwo',\n",
       " '/pokedex/mew']"
      ]
     },
     "execution_count": 27,
     "metadata": {},
     "output_type": "execute_result"
    }
   ],
   "source": [
    "name_hrefs"
   ]
  },
  {
   "cell_type": "code",
   "execution_count": null,
   "metadata": {},
   "outputs": [],
   "source": []
  }
 ],
 "metadata": {
  "kernelspec": {
   "display_name": "Python 3",
   "language": "python",
   "name": "python3"
  },
  "language_info": {
   "codemirror_mode": {
    "name": "ipython",
    "version": 3
   },
   "file_extension": ".py",
   "mimetype": "text/x-python",
   "name": "python",
   "nbconvert_exporter": "python",
   "pygments_lexer": "ipython3",
   "version": "3.12.4"
  }
 },
 "nbformat": 4,
 "nbformat_minor": 2
}
