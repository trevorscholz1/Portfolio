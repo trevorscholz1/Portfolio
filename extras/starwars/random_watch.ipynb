{
 "cells": [
  {
   "cell_type": "code",
   "execution_count": 1,
   "metadata": {},
   "outputs": [
    {
     "name": "stdout",
     "output_type": "stream",
     "text": [
      "Timeline of canon media | Wookieepedia | Fandom\n"
     ]
    },
    {
     "data": {
      "text/html": [
       "<div>\n",
       "<style scoped>\n",
       "    .dataframe tbody tr th:only-of-type {\n",
       "        vertical-align: middle;\n",
       "    }\n",
       "\n",
       "    .dataframe tbody tr th {\n",
       "        vertical-align: top;\n",
       "    }\n",
       "\n",
       "    .dataframe thead th {\n",
       "        text-align: right;\n",
       "    }\n",
       "</style>\n",
       "<table border=\"1\" class=\"dataframe\">\n",
       "  <thead>\n",
       "    <tr style=\"text-align: right;\">\n",
       "      <th></th>\n",
       "      <th>Year</th>\n",
       "      <th>Unnamed: 1</th>\n",
       "      <th>Title</th>\n",
       "      <th>Released</th>\n",
       "    </tr>\n",
       "  </thead>\n",
       "  <tbody>\n",
       "    <tr>\n",
       "      <th>547</th>\n",
       "      <td>20 BBY[6]</td>\n",
       "      <td>TV</td>\n",
       "      <td>Star Wars: The Clone Wars — \"Plan of Dissent\"</td>\n",
       "      <td>2011-11-11</td>\n",
       "    </tr>\n",
       "  </tbody>\n",
       "</table>\n",
       "</div>"
      ],
      "text/plain": [
       "          Year Unnamed: 1                                          Title  \\\n",
       "547  20 BBY[6]         TV  Star Wars: The Clone Wars — \"Plan of Dissent\"   \n",
       "\n",
       "       Released  \n",
       "547  2011-11-11  "
      ]
     },
     "execution_count": 1,
     "metadata": {},
     "output_type": "execute_result"
    }
   ],
   "source": [
    "from bs4 import BeautifulSoup\n",
    "import datetime\n",
    "from io import StringIO\n",
    "import os\n",
    "import pandas as pd\n",
    "from playwright.async_api import async_playwright, TimeoutError as PlaywrightTimeout\n",
    "import time\n",
    "\n",
    "DATA_DIR = 'data'\n",
    "artists = []\n",
    "try:\n",
    "    os.remove('data/Timeline_of_canon_media')\n",
    "except:\n",
    "    pass\n",
    "\n",
    "async def get_html(url, selector, sleep=5, retries=3):\n",
    "    html = None\n",
    "    for i in range(1, retries + 1):\n",
    "        time.sleep(sleep * i)\n",
    "        try:\n",
    "            async with async_playwright() as p:\n",
    "                browser = await p.webkit.launch()\n",
    "                page = await browser.new_page()\n",
    "                await page.goto(url)\n",
    "                print(await page.title())\n",
    "                html = await page.inner_html(selector)\n",
    "        except PlaywrightTimeout:\n",
    "            print(f\"Timeout error on {url}\")\n",
    "            continue\n",
    "        else:\n",
    "            break\n",
    "    return html\n",
    "\n",
    "async def scrape_charts():\n",
    "    url = \"https://starwars.fandom.com/wiki/Timeline_of_canon_media\"\n",
    "    save_path = os.path.join(DATA_DIR, url.split('/')[-1])\n",
    "    if not os.path.exists(save_path):\n",
    "        html = await get_html(url, '.mw-parser-output')\n",
    "        with open(save_path, 'w+') as f:\n",
    "            f.write(html)\n",
    "\n",
    "await scrape_charts()\n",
    "table = os.listdir(DATA_DIR)[0]\n",
    "table = os.path.join(DATA_DIR, table)\n",
    "\n",
    "with open(table) as f:\n",
    "        html = f.read()\n",
    "soup = BeautifulSoup(html)\n",
    "\n",
    "df = pd.read_html(StringIO(str(soup)))[2]\n",
    "df = df.dropna(subset=['Released'])\n",
    "\n",
    "available = df[(df['Unnamed: 1'] == 'F') | (df['Unnamed: 1'] == 'TV') | (df['Unnamed: 1'] == 'P')]\n",
    "available.reset_index(drop=True)\n",
    "\n",
    "current_date = datetime.datetime.now().strftime('%Y%m%d')\n",
    "watch = available.sample(n=1, random_state=int(current_date))\n",
    "watch"
   ]
  },
  {
   "cell_type": "code",
   "execution_count": null,
   "metadata": {},
   "outputs": [],
   "source": []
  }
 ],
 "metadata": {
  "kernelspec": {
   "display_name": "Python 3",
   "language": "python",
   "name": "python3"
  },
  "language_info": {
   "codemirror_mode": {
    "name": "ipython",
    "version": 3
   },
   "file_extension": ".py",
   "mimetype": "text/x-python",
   "name": "python",
   "nbconvert_exporter": "python",
   "pygments_lexer": "ipython3",
   "version": "3.10.0"
  }
 },
 "nbformat": 4,
 "nbformat_minor": 2
}
