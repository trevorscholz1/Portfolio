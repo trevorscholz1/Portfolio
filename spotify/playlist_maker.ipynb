{
 "cells": [
  {
   "cell_type": "code",
   "execution_count": null,
   "metadata": {},
   "outputs": [],
   "source": [
    "from dotenv import load_dotenv\n",
    "from IPython.display import display\n",
    "import os\n",
    "import pandas as pd\n",
    "from sklearn.cluster import KMeans\n",
    "import spotipy\n",
    "from spotipy.oauth2 import SpotifyClientCredentials\n",
    "\n",
    "pd.set_option('display.max_rows', 1000)\n",
    "\n",
    "load_dotenv()\n",
    "client_id=os.getenv('CLIENT_ID')\n",
    "client_secret=os.getenv('CLIENT_SECRET')\n",
    "\n",
    "credentials = SpotifyClientCredentials(client_id=client_id, client_secret=client_secret)\n",
    "sp = spotipy.Spotify(client_credentials_manager=credentials)\n",
    "\n",
    "def get_playlist_tracks(playlist_id):\n",
    "    tracks = []\n",
    "    results = sp.playlist_tracks(playlist_id)\n",
    "    tracks.extend(results['items'])\n",
    "    while results['next']:\n",
    "        results = sp.next(results)\n",
    "        tracks.extend(results['items'])\n",
    "    return tracks\n",
    "\n",
    "def get_track_features(track_ids):\n",
    "    features = []\n",
    "    chunk_size = 100\n",
    "    for i in range(0, len(track_ids), chunk_size):\n",
    "        chunk = track_ids[i:i + chunk_size]\n",
    "        features.extend(sp.audio_features(chunk))\n",
    "    df = pd.DataFrame(features)\n",
    "    return df\n",
    "\n",
    "playlist_id = '10eNrlNCbpuVZFiwVcuWOg'\n",
    "tracks = get_playlist_tracks(playlist_id)\n",
    "\n",
    "track_ids = [track['track']['id'] for track in tracks if track['track']['id'] is not None]\n",
    "track_names = [track['track']['name'] for track in tracks if track['track']['id'] is not None]\n",
    "\n",
    "features = get_track_features(track_ids)\n",
    "features['name'] = [track['track']['name'] for track in tracks if track['track']['id'] is not None and track['track']['id'] in features['id'].tolist()]\n",
    "\n",
    "features = features.drop_duplicates(subset=['name'], keep='last', ignore_index=True)\n",
    "selected_features = features[['danceability', 'energy', 'loudness', 'speechiness', 'acousticness', 'instrumentalness', 'liveness', 'valence', 'tempo']]\n",
    "\n",
    "kmeans = KMeans(n_clusters=3, random_state=0)\n",
    "features['cluster'] = kmeans.fit_predict(selected_features)\n",
    "\n",
    "for cluster in features['cluster'].unique():\n",
    "    print(f\"Playlist {cluster}:\")\n",
    "    display(features[features['cluster'] == cluster][['name', 'cluster']])"
   ]
  },
  {
   "cell_type": "code",
   "execution_count": null,
   "metadata": {},
   "outputs": [],
   "source": []
  }
 ],
 "metadata": {
  "kernelspec": {
   "display_name": "Python 3",
   "language": "python",
   "name": "python3"
  },
  "language_info": {
   "codemirror_mode": {
    "name": "ipython",
    "version": 3
   },
   "file_extension": ".py",
   "mimetype": "text/x-python",
   "name": "python",
   "nbconvert_exporter": "python",
   "pygments_lexer": "ipython3",
   "version": "3.10.0"
  }
 },
 "nbformat": 4,
 "nbformat_minor": 2
}
