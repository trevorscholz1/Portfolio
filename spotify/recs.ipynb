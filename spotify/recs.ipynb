{
 "cells": [
  {
   "cell_type": "code",
   "execution_count": null,
   "id": "7eb4e1f3",
   "metadata": {},
   "outputs": [],
   "source": [
    "import requests"
   ]
  },
  {
   "cell_type": "code",
   "execution_count": null,
   "id": "1466b631",
   "metadata": {},
   "outputs": [],
   "source": [
    "request = requests.get(f\"http://ws.audioscrobbler.com/2.0/?method=track.getsimilar&artist=cher&track=believe&api_key=&format=json\")"
   ]
  },
  {
   "cell_type": "code",
   "execution_count": null,
   "id": "f7ae640c",
   "metadata": {},
   "outputs": [],
   "source": [
    "request"
   ]
  },
  {
   "cell_type": "code",
   "execution_count": null,
   "id": "8a283dcf",
   "metadata": {},
   "outputs": [],
   "source": [
    "data = request.json()"
   ]
  },
  {
   "cell_type": "code",
   "execution_count": null,
   "id": "8c5bae11",
   "metadata": {},
   "outputs": [],
   "source": [
    "len(data['similartracks']['track'])"
   ]
  },
  {
   "cell_type": "code",
   "execution_count": null,
   "id": "58196e49",
   "metadata": {},
   "outputs": [],
   "source": [
    "len(data['similartracks']['track'])"
   ]
  },
  {
   "cell_type": "code",
   "execution_count": null,
   "id": "224e741e",
   "metadata": {},
   "outputs": [],
   "source": [
    "data"
   ]
  },
  {
   "cell_type": "code",
   "execution_count": null,
   "id": "f1db38ac",
   "metadata": {},
   "outputs": [],
   "source": []
  }
 ],
 "metadata": {
  "kernelspec": {
   "display_name": "Python 3",
   "language": "python",
   "name": "python3"
  },
  "language_info": {
   "codemirror_mode": {
    "name": "ipython",
    "version": 3
   },
   "file_extension": ".py",
   "mimetype": "text/x-python",
   "name": "python",
   "nbconvert_exporter": "python",
   "pygments_lexer": "ipython3",
   "version": "3.13.1"
  }
 },
 "nbformat": 4,
 "nbformat_minor": 5
}
